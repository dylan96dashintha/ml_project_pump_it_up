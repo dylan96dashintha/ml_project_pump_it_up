{
  "nbformat": 4,
  "nbformat_minor": 0,
  "metadata": {
    "accelerator": "TPU",
    "colab": {
      "name": "final_ml_project_cleaning_data.ipynb",
      "provenance": [],
      "collapsed_sections": [],
      "include_colab_link": true
    },
    "kernelspec": {
      "display_name": "Python 3",
      "name": "python3"
    },
    "language_info": {
      "name": "python"
    }
  },
  "cells": [
    {
      "cell_type": "markdown",
      "metadata": {
        "id": "view-in-github",
        "colab_type": "text"
      },
      "source": [
        "<a href=\"https://colab.research.google.com/github/dylan96dashintha/ml_project_pump_it_up/blob/main/final_ml_project_cleaning_data.ipynb\" target=\"_parent\"><img src=\"https://colab.research.google.com/assets/colab-badge.svg\" alt=\"Open In Colab\"/></a>"
      ]
    },
    {
      "cell_type": "code",
      "metadata": {
        "id": "MBTgorC2rUxt",
        "colab": {
          "base_uri": "https://localhost:8080/"
        },
        "outputId": "b2c12e77-5cab-48b4-a46f-8314e9213640"
      },
      "source": [
        "import numpy as np # linear algebra\n",
        "import pandas as pd # data processing, CSV file I/O (e.g. pd.read_csv)\n",
        "\n",
        "from sklearn.ensemble import RandomForestClassifier, AdaBoostClassifier, GradientBoostingClassifier, ExtraTreesClassifier, VotingClassifier\n",
        "from sklearn.discriminant_analysis import LinearDiscriminantAnalysis\n",
        "from sklearn.linear_model import LogisticRegression, RidgeClassifier\n",
        "from sklearn.neighbors import KNeighborsClassifier\n",
        "from sklearn.tree import DecisionTreeClassifier\n",
        "from sklearn.neural_network import MLPClassifier\n",
        "from sklearn.svm import SVC\n",
        "from sklearn.model_selection import GridSearchCV, cross_val_score, cross_val_predict, StratifiedKFold, learning_curve, KFold, train_test_split\n",
        "from sklearn import naive_bayes\n",
        "from sklearn.preprocessing import LabelEncoder,StandardScaler, MinMaxScaler\n",
        "from sklearn.utils import resample\n",
        "from sklearn.metrics import f1_score, roc_curve, roc_auc_score\n",
        "from imblearn.over_sampling import SMOTE\n",
        "from sklearn.impute import SimpleImputer\n",
        "from sklearn.compose import ColumnTransformer\n",
        "from sklearn.multioutput import MultiOutputClassifier\n",
        "from sklearn.pipeline import Pipeline\n",
        "from sklearn.decomposition import PCA\n",
        "\n",
        "from xgboost import XGBClassifier\n",
        "\n",
        "from collections import Counter\n",
        "%matplotlib inline\n",
        "import matplotlib.pyplot as plt\n",
        "import seaborn as sns\n",
        "sns.set(style='white', context='notebook', palette='deep')"
      ],
      "execution_count": null,
      "outputs": [
        {
          "output_type": "stream",
          "name": "stderr",
          "text": [
            "/usr/local/lib/python3.7/dist-packages/sklearn/externals/six.py:31: FutureWarning: The module is deprecated in version 0.21 and will be removed in version 0.23 since we've dropped support for Python 2.7. Please rely on the official version of six (https://pypi.org/project/six/).\n",
            "  \"(https://pypi.org/project/six/).\", FutureWarning)\n",
            "/usr/local/lib/python3.7/dist-packages/sklearn/utils/deprecation.py:144: FutureWarning: The sklearn.neighbors.base module is  deprecated in version 0.22 and will be removed in version 0.24. The corresponding classes / functions should instead be imported from sklearn.neighbors. Anything that cannot be imported from sklearn.neighbors is now part of the private API.\n",
            "  warnings.warn(message, FutureWarning)\n"
          ]
        }
      ]
    },
    {
      "cell_type": "code",
      "metadata": {
        "id": "qyZmtjYPrqNP",
        "colab": {
          "base_uri": "https://localhost:8080/"
        },
        "outputId": "91d2b6c1-a074-4d69-ab03-3b4066a8c3db"
      },
      "source": [
        "from google.colab import drive\n",
        "drive.mount('/content/drive')"
      ],
      "execution_count": null,
      "outputs": [
        {
          "output_type": "stream",
          "name": "stdout",
          "text": [
            "Mounted at /content/drive\n"
          ]
        }
      ]
    },
    {
      "cell_type": "code",
      "metadata": {
        "id": "zv7evQEgrvQ_"
      },
      "source": [
        "import pandas as pd\n",
        "from sklearn.model_selection import train_test_split\n",
        "\n",
        "#read the data\n",
        "features_df = pd.read_csv('/content/drive/My Drive/ML_project/Dataset/training_set.csv', index_col=\"id\")\n",
        "labels_df = pd.read_csv('/content/drive/My Drive/ML_project/Dataset/training_labels.csv', index_col=\"id\")\n",
        "test_features_df = pd.read_csv('/content/drive/My Drive/ML_project/Dataset/test_set.csv', index_col=\"id\")\n",
        "submittion_set = pd.read_csv('/content/drive/My Drive/ML_project/Dataset/SubmissionFormat.csv')"
      ],
      "execution_count": null,
      "outputs": []
    },
    {
      "cell_type": "code",
      "metadata": {
        "id": "DyDQDebbr3eu"
      },
      "source": [
        "train_len = len(features_df)\n",
        "dataset =  pd.concat(objs=[features_df, test_features_df], axis=0).reset_index(drop=True)\n",
        "df = dataset.copy()\n",
        "df['status_group'] = labels_df['status_group']"
      ],
      "execution_count": null,
      "outputs": []
    },
    {
      "cell_type": "code",
      "metadata": {
        "id": "MGZZZrfm6OIT",
        "colab": {
          "base_uri": "https://localhost:8080/"
        },
        "outputId": "7a059356-aa19-4314-9da3-b1897912fb02"
      },
      "source": [
        "train_len"
      ],
      "execution_count": null,
      "outputs": [
        {
          "output_type": "execute_result",
          "data": {
            "text/plain": [
              "59400"
            ]
          },
          "metadata": {},
          "execution_count": 5
        }
      ]
    },
    {
      "cell_type": "code",
      "metadata": {
        "id": "WPHfM5rH6S5w",
        "colab": {
          "base_uri": "https://localhost:8080/"
        },
        "outputId": "2da00479-24c7-4de2-dfa3-f41d3210fdb4"
      },
      "source": [
        "dataset.shape"
      ],
      "execution_count": null,
      "outputs": [
        {
          "output_type": "execute_result",
          "data": {
            "text/plain": [
              "(74250, 39)"
            ]
          },
          "metadata": {},
          "execution_count": 6
        }
      ]
    },
    {
      "cell_type": "code",
      "metadata": {
        "id": "D9oeX3TB6cnV",
        "colab": {
          "base_uri": "https://localhost:8080/"
        },
        "outputId": "06c583f0-34e1-4908-9bc1-e49f88ca75fc"
      },
      "source": [
        "df.shape"
      ],
      "execution_count": null,
      "outputs": [
        {
          "output_type": "execute_result",
          "data": {
            "text/plain": [
              "(74250, 40)"
            ]
          },
          "metadata": {},
          "execution_count": 7
        }
      ]
    },
    {
      "cell_type": "code",
      "metadata": {
        "id": "uqBygkuQd2Pu",
        "colab": {
          "base_uri": "https://localhost:8080/",
          "height": 838
        },
        "outputId": "432937b6-6fa3-40fa-c140-2ee2bad6d172"
      },
      "source": [
        "plt.figure(figsize=[30,15])\n",
        "sns.heatmap(df.corr(), annot=True)"
      ],
      "execution_count": null,
      "outputs": [
        {
          "output_type": "execute_result",
          "data": {
            "text/plain": [
              "<matplotlib.axes._subplots.AxesSubplot at 0x7f7855f56690>"
            ]
          },
          "metadata": {},
          "execution_count": 8
        },
        {
          "output_type": "display_data",
          "data": {
            "image/png": "[encoded data removed]",
            "text/plain": [
              "<Figure size 2160x1080 with 2 Axes>"
            ]
          },
          "metadata": {
            "needs_background": "light"
          }
        }
      ]
    },
    {
      "cell_type": "markdown",
      "metadata": {
        "id": "wnkvqgbbi6JW"
      },
      "source": [
        "# Pre processing data"
      ]
    },
    {
      "cell_type": "code",
      "metadata": {
        "id": "HLdTIEv3sB64",
        "colab": {
          "base_uri": "https://localhost:8080/"
        },
        "outputId": "63a52f35-86e7-43b8-df01-417d0d705ebf"
      },
      "source": [
        "df.info()"
      ],
      "execution_count": null,
      "outputs": [
        {
          "output_type": "stream",
          "name": "stdout",
          "text": [
            "<class 'pandas.core.frame.DataFrame'>\n",
            "RangeIndex: 74250 entries, 0 to 74249\n",
            "Data columns (total 40 columns):\n",
            " #   Column                 Non-Null Count  Dtype  \n",
            "---  ------                 --------------  -----  \n",
            " 0   amount_tsh             74250 non-null  float64\n",
            " 1   date_recorded          74250 non-null  object \n",
            " 2   funder                 69746 non-null  object \n",
            " 3   gps_height             74250 non-null  int64  \n",
            " 4   installer              69718 non-null  object \n",
            " 5   longitude              74250 non-null  float64\n",
            " 6   latitude               74250 non-null  float64\n",
            " 7   wpt_name               74250 non-null  object \n",
            " 8   num_private            74250 non-null  int64  \n",
            " 9   basin                  74250 non-null  object \n",
            " 10  subvillage             73780 non-null  object \n",
            " 11  region                 74250 non-null  object \n",
            " 12  region_code            74250 non-null  int64  \n",
            " 13  district_code          74250 non-null  int64  \n",
            " 14  lga                    74250 non-null  object \n",
            " 15  ward                   74250 non-null  object \n",
            " 16  population             74250 non-null  int64  \n",
            " 17  public_meeting         70095 non-null  object \n",
            " 18  recorded_by            74250 non-null  object \n",
            " 19  scheme_management      69404 non-null  object \n",
            " 20  scheme_name            38992 non-null  object \n",
            " 21  permit                 70457 non-null  object \n",
            " 22  construction_year      74250 non-null  int64  \n",
            " 23  extraction_type        74250 non-null  object \n",
            " 24  extraction_type_group  74250 non-null  object \n",
            " 25  extraction_type_class  74250 non-null  object \n",
            " 26  management             74250 non-null  object \n",
            " 27  management_group       74250 non-null  object \n",
            " 28  payment                74250 non-null  object \n",
            " 29  payment_type           74250 non-null  object \n",
            " 30  water_quality          74250 non-null  object \n",
            " 31  quality_group          74250 non-null  object \n",
            " 32  quantity               74250 non-null  object \n",
            " 33  quantity_group         74250 non-null  object \n",
            " 34  source                 74250 non-null  object \n",
            " 35  source_type            74250 non-null  object \n",
            " 36  source_class           74250 non-null  object \n",
            " 37  waterpoint_type        74250 non-null  object \n",
            " 38  waterpoint_type_group  74250 non-null  object \n",
            " 39  status_group           59400 non-null  object \n",
            "dtypes: float64(3), int64(6), object(31)\n",
            "memory usage: 22.7+ MB\n"
          ]
        }
      ]
    },
    {
      "cell_type": "code",
      "metadata": {
        "id": "cUpX4IpLsETG",
        "colab": {
          "base_uri": "https://localhost:8080/"
        },
        "outputId": "23d3b851-0e52-4c85-b206-fb9eaeeae64d"
      },
      "source": [
        "#null values in the dataset\n",
        "df.isna().sum()"
      ],
      "execution_count": null,
      "outputs": [
        {
          "output_type": "execute_result",
          "data": {
            "text/plain": [
              "amount_tsh                   0\n",
              "date_recorded                0\n",
              "funder                    4504\n",
              "gps_height                   0\n",
              "installer                 4532\n",
              "longitude                    0\n",
              "latitude                     0\n",
              "wpt_name                     0\n",
              "num_private                  0\n",
              "basin                        0\n",
              "subvillage                 470\n",
              "region                       0\n",
              "region_code                  0\n",
              "district_code                0\n",
              "lga                          0\n",
              "ward                         0\n",
              "population                   0\n",
              "public_meeting            4155\n",
              "recorded_by                  0\n",
              "scheme_management         4846\n",
              "scheme_name              35258\n",
              "permit                    3793\n",
              "construction_year            0\n",
              "extraction_type              0\n",
              "extraction_type_group        0\n",
              "extraction_type_class        0\n",
              "management                   0\n",
              "management_group             0\n",
              "payment                      0\n",
              "payment_type                 0\n",
              "water_quality                0\n",
              "quality_group                0\n",
              "quantity                     0\n",
              "quantity_group               0\n",
              "source                       0\n",
              "source_type                  0\n",
              "source_class                 0\n",
              "waterpoint_type              0\n",
              "waterpoint_type_group        0\n",
              "status_group             14850\n",
              "dtype: int64"
            ]
          },
          "metadata": {},
          "execution_count": 10
        }
      ]
    },
    {
      "cell_type": "code",
      "metadata": {
        "id": "5iFS8m0AsX6G",
        "colab": {
          "base_uri": "https://localhost:8080/"
        },
        "outputId": "47c6123f-48ce-4e82-e1e3-232eaa92cedd"
      },
      "source": [
        "df['scheme_management'].value_counts()"
      ],
      "execution_count": null,
      "outputs": [
        {
          "output_type": "execute_result",
          "data": {
            "text/plain": [
              "VWC                 45917\n",
              "WUG                  6496\n",
              "Water authority      3975\n",
              "WUA                  3551\n",
              "Water Board          3462\n",
              "Parastatal           2124\n",
              "Company              1341\n",
              "Private operator     1326\n",
              "Other                 996\n",
              "SWC                   123\n",
              "Trust                  92\n",
              "None                    1\n",
              "Name: scheme_management, dtype: int64"
            ]
          },
          "metadata": {},
          "execution_count": 11
        }
      ]
    },
    {
      "cell_type": "code",
      "metadata": {
        "id": "c3G6GhDmsbAe",
        "colab": {
          "base_uri": "https://localhost:8080/"
        },
        "outputId": "3048b4c7-7dfb-4fa6-8489-58005f86c70a"
      },
      "source": [
        "df['management'].value_counts()"
      ],
      "execution_count": null,
      "outputs": [
        {
          "output_type": "execute_result",
          "data": {
            "text/plain": [
              "vwc                 50624\n",
              "wug                  8108\n",
              "water board          3688\n",
              "wua                  3118\n",
              "private operator     2504\n",
              "parastatal           2229\n",
              "water authority      1123\n",
              "other                1083\n",
              "company               859\n",
              "unknown               683\n",
              "other - school        126\n",
              "trust                 105\n",
              "Name: management, dtype: int64"
            ]
          },
          "metadata": {},
          "execution_count": 12
        }
      ]
    },
    {
      "cell_type": "markdown",
      "metadata": {
        "id": "9nI25_DSsj6Y"
      },
      "source": [
        "As these scheme_management reperestns who operates the water point and the 'management' represents how the water point is managed. As the scheme_management column has 4846 null values I will drop it from the dataset.\n"
      ]
    },
    {
      "cell_type": "code",
      "metadata": {
        "id": "h39FSky9s62h",
        "colab": {
          "base_uri": "https://localhost:8080/"
        },
        "outputId": "4f2c4cac-b78f-4ae8-8b41-f753b9372c42"
      },
      "source": [
        "df['quantity'].value_counts()"
      ],
      "execution_count": null,
      "outputs": [
        {
          "output_type": "execute_result",
          "data": {
            "text/plain": [
              "enough          41522\n",
              "insufficient    18896\n",
              "dry              7782\n",
              "seasonal         5075\n",
              "unknown           975\n",
              "Name: quantity, dtype: int64"
            ]
          },
          "metadata": {},
          "execution_count": 13
        }
      ]
    },
    {
      "cell_type": "code",
      "metadata": {
        "id": "hAPxwysltIKu",
        "colab": {
          "base_uri": "https://localhost:8080/"
        },
        "outputId": "8fd14c43-0e4b-497f-9f90-13f2d643e12b"
      },
      "source": [
        "df['quantity_group'].value_counts()"
      ],
      "execution_count": null,
      "outputs": [
        {
          "output_type": "execute_result",
          "data": {
            "text/plain": [
              "enough          41522\n",
              "insufficient    18896\n",
              "dry              7782\n",
              "seasonal         5075\n",
              "unknown           975\n",
              "Name: quantity_group, dtype: int64"
            ]
          },
          "metadata": {},
          "execution_count": 14
        }
      ]
    },
    {
      "cell_type": "code",
      "metadata": {
        "id": "hd3DmjE-tUPu",
        "colab": {
          "base_uri": "https://localhost:8080/",
          "height": 284
        },
        "outputId": "885f3f7c-bc7f-42d8-9edd-3ca22036f672"
      },
      "source": [
        "\n",
        "ax = sns.countplot(x='quantity', hue=\"status_group\", data=df)"
      ],
      "execution_count": null,
      "outputs": [
        {
          "output_type": "display_data",
          "data": {
            "image/png": "[encoded data removed]",
            "text/plain": [
              "<Figure size 432x288 with 1 Axes>"
            ]
          },
          "metadata": {
            "needs_background": "light"
          }
        }
      ]
    },
    {
      "cell_type": "code",
      "metadata": {
        "id": "9ouixSx0ucD3",
        "colab": {
          "base_uri": "https://localhost:8080/",
          "height": 284
        },
        "outputId": "d5ae42bc-5bcb-4d98-dd13-2524197791ac"
      },
      "source": [
        "ax = sns.countplot(x='quantity_group', hue=\"status_group\", data=df)"
      ],
      "execution_count": null,
      "outputs": [
        {
          "output_type": "display_data",
          "data": {
            "image/png": "[encoded data removed]",
            "text/plain": [
              "<Figure size 432x288 with 1 Axes>"
            ]
          },
          "metadata": {
            "needs_background": "light"
          }
        }
      ]
    },
    {
      "cell_type": "markdown",
      "metadata": {
        "id": "ehDReSdCtNHW"
      },
      "source": [
        "as these 2 columsn contains same information, decided to drop quantity_group\n",
        "\n",
        "---\n",
        "\n"
      ]
    },
    {
      "cell_type": "code",
      "metadata": {
        "id": "rmtK-u1Muioe",
        "colab": {
          "base_uri": "https://localhost:8080/"
        },
        "outputId": "a1bc5439-7baa-4a44-8ff9-8cae84f5eed2"
      },
      "source": [
        "df['source'].value_counts()"
      ],
      "execution_count": null,
      "outputs": [
        {
          "output_type": "execute_result",
          "data": {
            "text/plain": [
              "spring                  21216\n",
              "shallow well            21140\n",
              "machine dbh             13822\n",
              "river                   11964\n",
              "rainwater harvesting     2863\n",
              "hand dtw                 1108\n",
              "lake                      950\n",
              "dam                       840\n",
              "other                     261\n",
              "unknown                    86\n",
              "Name: source, dtype: int64"
            ]
          },
          "metadata": {},
          "execution_count": 17
        }
      ]
    },
    {
      "cell_type": "code",
      "metadata": {
        "id": "Rk9Q0kFHuzRd",
        "colab": {
          "base_uri": "https://localhost:8080/"
        },
        "outputId": "f6b402b0-c59b-49dd-d0f8-fc540997314b"
      },
      "source": [
        "df['source_type'].value_counts()"
      ],
      "execution_count": null,
      "outputs": [
        {
          "output_type": "execute_result",
          "data": {
            "text/plain": [
              "spring                  21216\n",
              "shallow well            21140\n",
              "borehole                14930\n",
              "river/lake              12914\n",
              "rainwater harvesting     2863\n",
              "dam                       840\n",
              "other                     347\n",
              "Name: source_type, dtype: int64"
            ]
          },
          "metadata": {},
          "execution_count": 18
        }
      ]
    },
    {
      "cell_type": "code",
      "metadata": {
        "id": "cDYu97QVu1am",
        "colab": {
          "base_uri": "https://localhost:8080/"
        },
        "outputId": "e7899af4-0ebe-488b-9fc4-e0cbc1814433"
      },
      "source": [
        "df['source_class'].value_counts()"
      ],
      "execution_count": null,
      "outputs": [
        {
          "output_type": "execute_result",
          "data": {
            "text/plain": [
              "groundwater    57286\n",
              "surface        16617\n",
              "unknown          347\n",
              "Name: source_class, dtype: int64"
            ]
          },
          "metadata": {},
          "execution_count": 19
        }
      ]
    },
    {
      "cell_type": "code",
      "metadata": {
        "id": "i7xyO4RKu4NW",
        "colab": {
          "base_uri": "https://localhost:8080/",
          "height": 455
        },
        "outputId": "5c6d5024-d85d-4dca-a393-966ac3f50303"
      },
      "source": [
        "df.groupby(['source_class','source']).count()"
      ],
      "execution_count": null,
      "outputs": [
        {
          "output_type": "execute_result",
          "data": {
            "text/html": [
              "<div>\n",
              "<style scoped>\n",
              "    .dataframe tbody tr th:only-of-type {\n",
              "        vertical-align: middle;\n",
              "    }\n",
              "\n",
              "    .dataframe tbody tr th {\n",
              "        vertical-align: top;\n",
              "    }\n",
              "\n",
              "    .dataframe thead th {\n",
              "        text-align: right;\n",
              "    }\n",
              "</style>\n",
              "<table border=\"1\" class=\"dataframe\">\n",
              "  <thead>\n",
              "    <tr style=\"text-align: right;\">\n",
              "      <th></th>\n",
              "      <th></th>\n",
              "      <th>amount_tsh</th>\n",
              "      <th>date_recorded</th>\n",
              "      <th>funder</th>\n",
              "      <th>gps_height</th>\n",
              "      <th>installer</th>\n",
              "      <th>longitude</th>\n",
              "      <th>latitude</th>\n",
              "      <th>wpt_name</th>\n",
              "      <th>num_private</th>\n",
              "      <th>basin</th>\n",
              "      <th>subvillage</th>\n",
              "      <th>region</th>\n",
              "      <th>region_code</th>\n",
              "      <th>district_code</th>\n",
              "      <th>lga</th>\n",
              "      <th>ward</th>\n",
              "      <th>population</th>\n",
              "      <th>public_meeting</th>\n",
              "      <th>recorded_by</th>\n",
              "      <th>scheme_management</th>\n",
              "      <th>scheme_name</th>\n",
              "      <th>permit</th>\n",
              "      <th>construction_year</th>\n",
              "      <th>extraction_type</th>\n",
              "      <th>extraction_type_group</th>\n",
              "      <th>extraction_type_class</th>\n",
              "      <th>management</th>\n",
              "      <th>management_group</th>\n",
              "      <th>payment</th>\n",
              "      <th>payment_type</th>\n",
              "      <th>water_quality</th>\n",
              "      <th>quality_group</th>\n",
              "      <th>quantity</th>\n",
              "      <th>quantity_group</th>\n",
              "      <th>source_type</th>\n",
              "      <th>waterpoint_type</th>\n",
              "      <th>waterpoint_type_group</th>\n",
              "      <th>status_group</th>\n",
              "    </tr>\n",
              "    <tr>\n",
              "      <th>source_class</th>\n",
              "      <th>source</th>\n",
              "      <th></th>\n",
              "      <th></th>\n",
              "      <th></th>\n",
              "      <th></th>\n",
              "      <th></th>\n",
              "      <th></th>\n",
              "      <th></th>\n",
              "      <th></th>\n",
              "      <th></th>\n",
              "      <th></th>\n",
              "      <th></th>\n",
              "      <th></th>\n",
              "      <th></th>\n",
              "      <th></th>\n",
              "      <th></th>\n",
              "      <th></th>\n",
              "      <th></th>\n",
              "      <th></th>\n",
              "      <th></th>\n",
              "      <th></th>\n",
              "      <th></th>\n",
              "      <th></th>\n",
              "      <th></th>\n",
              "      <th></th>\n",
              "      <th></th>\n",
              "      <th></th>\n",
              "      <th></th>\n",
              "      <th></th>\n",
              "      <th></th>\n",
              "      <th></th>\n",
              "      <th></th>\n",
              "      <th></th>\n",
              "      <th></th>\n",
              "      <th></th>\n",
              "      <th></th>\n",
              "      <th></th>\n",
              "      <th></th>\n",
              "      <th></th>\n",
              "    </tr>\n",
              "  </thead>\n",
              "  <tbody>\n",
              "    <tr>\n",
              "      <th rowspan=\"4\" valign=\"top\">groundwater</th>\n",
              "      <th>hand dtw</th>\n",
              "      <td>1108</td>\n",
              "      <td>1108</td>\n",
              "      <td>1098</td>\n",
              "      <td>1108</td>\n",
              "      <td>1098</td>\n",
              "      <td>1108</td>\n",
              "      <td>1108</td>\n",
              "      <td>1108</td>\n",
              "      <td>1108</td>\n",
              "      <td>1108</td>\n",
              "      <td>1108</td>\n",
              "      <td>1108</td>\n",
              "      <td>1108</td>\n",
              "      <td>1108</td>\n",
              "      <td>1108</td>\n",
              "      <td>1108</td>\n",
              "      <td>1108</td>\n",
              "      <td>997</td>\n",
              "      <td>1108</td>\n",
              "      <td>1100</td>\n",
              "      <td>159</td>\n",
              "      <td>1099</td>\n",
              "      <td>1108</td>\n",
              "      <td>1108</td>\n",
              "      <td>1108</td>\n",
              "      <td>1108</td>\n",
              "      <td>1108</td>\n",
              "      <td>1108</td>\n",
              "      <td>1108</td>\n",
              "      <td>1108</td>\n",
              "      <td>1108</td>\n",
              "      <td>1108</td>\n",
              "      <td>1108</td>\n",
              "      <td>1108</td>\n",
              "      <td>1108</td>\n",
              "      <td>1108</td>\n",
              "      <td>1108</td>\n",
              "      <td>881</td>\n",
              "    </tr>\n",
              "    <tr>\n",
              "      <th>machine dbh</th>\n",
              "      <td>13822</td>\n",
              "      <td>13822</td>\n",
              "      <td>12816</td>\n",
              "      <td>13822</td>\n",
              "      <td>12807</td>\n",
              "      <td>13822</td>\n",
              "      <td>13822</td>\n",
              "      <td>13822</td>\n",
              "      <td>13822</td>\n",
              "      <td>13822</td>\n",
              "      <td>13532</td>\n",
              "      <td>13822</td>\n",
              "      <td>13822</td>\n",
              "      <td>13822</td>\n",
              "      <td>13822</td>\n",
              "      <td>13822</td>\n",
              "      <td>13822</td>\n",
              "      <td>12791</td>\n",
              "      <td>13822</td>\n",
              "      <td>13201</td>\n",
              "      <td>6854</td>\n",
              "      <td>12874</td>\n",
              "      <td>13822</td>\n",
              "      <td>13822</td>\n",
              "      <td>13822</td>\n",
              "      <td>13822</td>\n",
              "      <td>13822</td>\n",
              "      <td>13822</td>\n",
              "      <td>13822</td>\n",
              "      <td>13822</td>\n",
              "      <td>13822</td>\n",
              "      <td>13822</td>\n",
              "      <td>13822</td>\n",
              "      <td>13822</td>\n",
              "      <td>13822</td>\n",
              "      <td>13822</td>\n",
              "      <td>13822</td>\n",
              "      <td>11092</td>\n",
              "    </tr>\n",
              "    <tr>\n",
              "      <th>shallow well</th>\n",
              "      <td>21140</td>\n",
              "      <td>21140</td>\n",
              "      <td>20507</td>\n",
              "      <td>21140</td>\n",
              "      <td>20490</td>\n",
              "      <td>21140</td>\n",
              "      <td>21140</td>\n",
              "      <td>21140</td>\n",
              "      <td>21140</td>\n",
              "      <td>21140</td>\n",
              "      <td>21132</td>\n",
              "      <td>21140</td>\n",
              "      <td>21140</td>\n",
              "      <td>21140</td>\n",
              "      <td>21140</td>\n",
              "      <td>21140</td>\n",
              "      <td>21140</td>\n",
              "      <td>19506</td>\n",
              "      <td>21140</td>\n",
              "      <td>17741</td>\n",
              "      <td>1396</td>\n",
              "      <td>20431</td>\n",
              "      <td>21140</td>\n",
              "      <td>21140</td>\n",
              "      <td>21140</td>\n",
              "      <td>21140</td>\n",
              "      <td>21140</td>\n",
              "      <td>21140</td>\n",
              "      <td>21140</td>\n",
              "      <td>21140</td>\n",
              "      <td>21140</td>\n",
              "      <td>21140</td>\n",
              "      <td>21140</td>\n",
              "      <td>21140</td>\n",
              "      <td>21140</td>\n",
              "      <td>21140</td>\n",
              "      <td>21140</td>\n",
              "      <td>16885</td>\n",
              "    </tr>\n",
              "    <tr>\n",
              "      <th>spring</th>\n",
              "      <td>21216</td>\n",
              "      <td>21216</td>\n",
              "      <td>19778</td>\n",
              "      <td>21216</td>\n",
              "      <td>19778</td>\n",
              "      <td>21216</td>\n",
              "      <td>21216</td>\n",
              "      <td>21216</td>\n",
              "      <td>21216</td>\n",
              "      <td>21216</td>\n",
              "      <td>21047</td>\n",
              "      <td>21216</td>\n",
              "      <td>21216</td>\n",
              "      <td>21216</td>\n",
              "      <td>21216</td>\n",
              "      <td>21216</td>\n",
              "      <td>21216</td>\n",
              "      <td>20443</td>\n",
              "      <td>21216</td>\n",
              "      <td>20901</td>\n",
              "      <td>18625</td>\n",
              "      <td>19921</td>\n",
              "      <td>21216</td>\n",
              "      <td>21216</td>\n",
              "      <td>21216</td>\n",
              "      <td>21216</td>\n",
              "      <td>21216</td>\n",
              "      <td>21216</td>\n",
              "      <td>21216</td>\n",
              "      <td>21216</td>\n",
              "      <td>21216</td>\n",
              "      <td>21216</td>\n",
              "      <td>21216</td>\n",
              "      <td>21216</td>\n",
              "      <td>21216</td>\n",
              "      <td>21216</td>\n",
              "      <td>21216</td>\n",
              "      <td>17030</td>\n",
              "    </tr>\n",
              "    <tr>\n",
              "      <th rowspan=\"4\" valign=\"top\">surface</th>\n",
              "      <th>dam</th>\n",
              "      <td>840</td>\n",
              "      <td>840</td>\n",
              "      <td>828</td>\n",
              "      <td>840</td>\n",
              "      <td>828</td>\n",
              "      <td>840</td>\n",
              "      <td>840</td>\n",
              "      <td>840</td>\n",
              "      <td>840</td>\n",
              "      <td>840</td>\n",
              "      <td>840</td>\n",
              "      <td>840</td>\n",
              "      <td>840</td>\n",
              "      <td>840</td>\n",
              "      <td>840</td>\n",
              "      <td>840</td>\n",
              "      <td>840</td>\n",
              "      <td>786</td>\n",
              "      <td>840</td>\n",
              "      <td>825</td>\n",
              "      <td>592</td>\n",
              "      <td>801</td>\n",
              "      <td>840</td>\n",
              "      <td>840</td>\n",
              "      <td>840</td>\n",
              "      <td>840</td>\n",
              "      <td>840</td>\n",
              "      <td>840</td>\n",
              "      <td>840</td>\n",
              "      <td>840</td>\n",
              "      <td>840</td>\n",
              "      <td>840</td>\n",
              "      <td>840</td>\n",
              "      <td>840</td>\n",
              "      <td>840</td>\n",
              "      <td>840</td>\n",
              "      <td>840</td>\n",
              "      <td>684</td>\n",
              "    </tr>\n",
              "    <tr>\n",
              "      <th>lake</th>\n",
              "      <td>950</td>\n",
              "      <td>950</td>\n",
              "      <td>946</td>\n",
              "      <td>950</td>\n",
              "      <td>945</td>\n",
              "      <td>950</td>\n",
              "      <td>950</td>\n",
              "      <td>950</td>\n",
              "      <td>950</td>\n",
              "      <td>950</td>\n",
              "      <td>949</td>\n",
              "      <td>950</td>\n",
              "      <td>950</td>\n",
              "      <td>950</td>\n",
              "      <td>950</td>\n",
              "      <td>950</td>\n",
              "      <td>950</td>\n",
              "      <td>780</td>\n",
              "      <td>950</td>\n",
              "      <td>919</td>\n",
              "      <td>762</td>\n",
              "      <td>950</td>\n",
              "      <td>950</td>\n",
              "      <td>950</td>\n",
              "      <td>950</td>\n",
              "      <td>950</td>\n",
              "      <td>950</td>\n",
              "      <td>950</td>\n",
              "      <td>950</td>\n",
              "      <td>950</td>\n",
              "      <td>950</td>\n",
              "      <td>950</td>\n",
              "      <td>950</td>\n",
              "      <td>950</td>\n",
              "      <td>950</td>\n",
              "      <td>950</td>\n",
              "      <td>950</td>\n",
              "      <td>758</td>\n",
              "    </tr>\n",
              "    <tr>\n",
              "      <th>rainwater harvesting</th>\n",
              "      <td>2863</td>\n",
              "      <td>2863</td>\n",
              "      <td>2607</td>\n",
              "      <td>2863</td>\n",
              "      <td>2600</td>\n",
              "      <td>2863</td>\n",
              "      <td>2863</td>\n",
              "      <td>2863</td>\n",
              "      <td>2863</td>\n",
              "      <td>2863</td>\n",
              "      <td>2861</td>\n",
              "      <td>2863</td>\n",
              "      <td>2863</td>\n",
              "      <td>2863</td>\n",
              "      <td>2863</td>\n",
              "      <td>2863</td>\n",
              "      <td>2863</td>\n",
              "      <td>2609</td>\n",
              "      <td>2863</td>\n",
              "      <td>2577</td>\n",
              "      <td>397</td>\n",
              "      <td>2536</td>\n",
              "      <td>2863</td>\n",
              "      <td>2863</td>\n",
              "      <td>2863</td>\n",
              "      <td>2863</td>\n",
              "      <td>2863</td>\n",
              "      <td>2863</td>\n",
              "      <td>2863</td>\n",
              "      <td>2863</td>\n",
              "      <td>2863</td>\n",
              "      <td>2863</td>\n",
              "      <td>2863</td>\n",
              "      <td>2863</td>\n",
              "      <td>2863</td>\n",
              "      <td>2863</td>\n",
              "      <td>2863</td>\n",
              "      <td>2281</td>\n",
              "    </tr>\n",
              "    <tr>\n",
              "      <th>river</th>\n",
              "      <td>11964</td>\n",
              "      <td>11964</td>\n",
              "      <td>10854</td>\n",
              "      <td>11964</td>\n",
              "      <td>10860</td>\n",
              "      <td>11964</td>\n",
              "      <td>11964</td>\n",
              "      <td>11964</td>\n",
              "      <td>11964</td>\n",
              "      <td>11964</td>\n",
              "      <td>11964</td>\n",
              "      <td>11964</td>\n",
              "      <td>11964</td>\n",
              "      <td>11964</td>\n",
              "      <td>11964</td>\n",
              "      <td>11964</td>\n",
              "      <td>11964</td>\n",
              "      <td>11875</td>\n",
              "      <td>11964</td>\n",
              "      <td>11837</td>\n",
              "      <td>9998</td>\n",
              "      <td>11514</td>\n",
              "      <td>11964</td>\n",
              "      <td>11964</td>\n",
              "      <td>11964</td>\n",
              "      <td>11964</td>\n",
              "      <td>11964</td>\n",
              "      <td>11964</td>\n",
              "      <td>11964</td>\n",
              "      <td>11964</td>\n",
              "      <td>11964</td>\n",
              "      <td>11964</td>\n",
              "      <td>11964</td>\n",
              "      <td>11964</td>\n",
              "      <td>11964</td>\n",
              "      <td>11964</td>\n",
              "      <td>11964</td>\n",
              "      <td>9515</td>\n",
              "    </tr>\n",
              "    <tr>\n",
              "      <th rowspan=\"2\" valign=\"top\">unknown</th>\n",
              "      <th>other</th>\n",
              "      <td>261</td>\n",
              "      <td>261</td>\n",
              "      <td>253</td>\n",
              "      <td>261</td>\n",
              "      <td>253</td>\n",
              "      <td>261</td>\n",
              "      <td>261</td>\n",
              "      <td>261</td>\n",
              "      <td>261</td>\n",
              "      <td>261</td>\n",
              "      <td>261</td>\n",
              "      <td>261</td>\n",
              "      <td>261</td>\n",
              "      <td>261</td>\n",
              "      <td>261</td>\n",
              "      <td>261</td>\n",
              "      <td>261</td>\n",
              "      <td>247</td>\n",
              "      <td>261</td>\n",
              "      <td>243</td>\n",
              "      <td>177</td>\n",
              "      <td>257</td>\n",
              "      <td>261</td>\n",
              "      <td>261</td>\n",
              "      <td>261</td>\n",
              "      <td>261</td>\n",
              "      <td>261</td>\n",
              "      <td>261</td>\n",
              "      <td>261</td>\n",
              "      <td>261</td>\n",
              "      <td>261</td>\n",
              "      <td>261</td>\n",
              "      <td>261</td>\n",
              "      <td>261</td>\n",
              "      <td>261</td>\n",
              "      <td>261</td>\n",
              "      <td>261</td>\n",
              "      <td>202</td>\n",
              "    </tr>\n",
              "    <tr>\n",
              "      <th>unknown</th>\n",
              "      <td>86</td>\n",
              "      <td>86</td>\n",
              "      <td>59</td>\n",
              "      <td>86</td>\n",
              "      <td>59</td>\n",
              "      <td>86</td>\n",
              "      <td>86</td>\n",
              "      <td>86</td>\n",
              "      <td>86</td>\n",
              "      <td>86</td>\n",
              "      <td>86</td>\n",
              "      <td>86</td>\n",
              "      <td>86</td>\n",
              "      <td>86</td>\n",
              "      <td>86</td>\n",
              "      <td>86</td>\n",
              "      <td>86</td>\n",
              "      <td>61</td>\n",
              "      <td>86</td>\n",
              "      <td>60</td>\n",
              "      <td>32</td>\n",
              "      <td>74</td>\n",
              "      <td>86</td>\n",
              "      <td>86</td>\n",
              "      <td>86</td>\n",
              "      <td>86</td>\n",
              "      <td>86</td>\n",
              "      <td>86</td>\n",
              "      <td>86</td>\n",
              "      <td>86</td>\n",
              "      <td>86</td>\n",
              "      <td>86</td>\n",
              "      <td>86</td>\n",
              "      <td>86</td>\n",
              "      <td>86</td>\n",
              "      <td>86</td>\n",
              "      <td>86</td>\n",
              "      <td>72</td>\n",
              "    </tr>\n",
              "  </tbody>\n",
              "</table>\n",
              "</div>"
            ],
            "text/plain": [
              "                                   amount_tsh  ...  status_group\n",
              "source_class source                            ...              \n",
              "groundwater  hand dtw                    1108  ...           881\n",
              "             machine dbh                13822  ...         11092\n",
              "             shallow well               21140  ...         16885\n",
              "             spring                     21216  ...         17030\n",
              "surface      dam                          840  ...           684\n",
              "             lake                         950  ...           758\n",
              "             rainwater harvesting        2863  ...          2281\n",
              "             river                      11964  ...          9515\n",
              "unknown      other                        261  ...           202\n",
              "             unknown                       86  ...            72\n",
              "\n",
              "[10 rows x 38 columns]"
            ]
          },
          "metadata": {},
          "execution_count": 20
        }
      ]
    },
    {
      "cell_type": "markdown",
      "metadata": {
        "id": "P65obiHevDse"
      },
      "source": [
        "\n",
        "It is obvious that these three columns keep same information. so, decided to keep just 'source' column, because it has more detailed information and drop others."
      ]
    },
    {
      "cell_type": "code",
      "metadata": {
        "id": "YJFF_gukvEud",
        "colab": {
          "base_uri": "https://localhost:8080/",
          "height": 284
        },
        "outputId": "3c6c5860-d3c6-42ca-f24b-4eaa3a0595af"
      },
      "source": [
        "ax = sns.countplot(x='source_class', hue=\"status_group\", data=df)"
      ],
      "execution_count": null,
      "outputs": [
        {
          "output_type": "display_data",
          "data": {
            "image/png": "[encoded data removed]",
            "text/plain": [
              "<Figure size 432x288 with 1 Axes>"
            ]
          },
          "metadata": {
            "needs_background": "light"
          }
        }
      ]
    },
    {
      "cell_type": "code",
      "metadata": {
        "id": "se7xnifqvHfF",
        "colab": {
          "base_uri": "https://localhost:8080/",
          "height": 611
        },
        "outputId": "74ceae3d-1b03-4c4b-b40a-db5646909744"
      },
      "source": [
        "plt.figure(figsize=(20,10))\n",
        "ax = sns.countplot(x='source', hue=\"status_group\", data=df)"
      ],
      "execution_count": null,
      "outputs": [
        {
          "output_type": "display_data",
          "data": {
            "image/png": "[encoded data removed]",
            "text/plain": [
              "<Figure size 1440x720 with 1 Axes>"
            ]
          },
          "metadata": {
            "needs_background": "light"
          }
        }
      ]
    },
    {
      "cell_type": "code",
      "metadata": {
        "id": "YRTGczW5vWaV",
        "colab": {
          "base_uri": "https://localhost:8080/"
        },
        "outputId": "595dbc02-f18e-4234-f54f-ea45160e42a0"
      },
      "source": [
        "df['water_quality'].value_counts()"
      ],
      "execution_count": null,
      "outputs": [
        {
          "output_type": "execute_result",
          "data": {
            "text/plain": [
              "soft                  63505\n",
              "salty                  6082\n",
              "unknown                2345\n",
              "milky                  1005\n",
              "coloured                623\n",
              "salty abandoned         423\n",
              "fluoride                244\n",
              "fluoride abandoned       23\n",
              "Name: water_quality, dtype: int64"
            ]
          },
          "metadata": {},
          "execution_count": 23
        }
      ]
    },
    {
      "cell_type": "code",
      "metadata": {
        "id": "hU7xrnLdvX4t",
        "colab": {
          "base_uri": "https://localhost:8080/"
        },
        "outputId": "a0dc195c-eb4c-4921-9414-97843f4f53da"
      },
      "source": [
        "\n",
        "df['quality_group'].value_counts()"
      ],
      "execution_count": null,
      "outputs": [
        {
          "output_type": "execute_result",
          "data": {
            "text/plain": [
              "good        63505\n",
              "salty        6505\n",
              "unknown      2345\n",
              "milky        1005\n",
              "colored       623\n",
              "fluoride      267\n",
              "Name: quality_group, dtype: int64"
            ]
          },
          "metadata": {},
          "execution_count": 24
        }
      ]
    },
    {
      "cell_type": "markdown",
      "metadata": {
        "id": "SdPtG9TmvgXX"
      },
      "source": [
        "As water_quality and quality_group has same information and water_quality has more unique values, I will keep only water_qulity column."
      ]
    },
    {
      "cell_type": "code",
      "metadata": {
        "id": "irc5UgulvtEG",
        "colab": {
          "base_uri": "https://localhost:8080/",
          "height": 611
        },
        "outputId": "3a7d2e43-3b18-4944-ba8b-b918bbe45368"
      },
      "source": [
        "plt.figure(figsize=(20,10))\n",
        "ax = sns.countplot(x='water_quality', hue=\"status_group\", data=df)"
      ],
      "execution_count": null,
      "outputs": [
        {
          "output_type": "display_data",
          "data": {
            "image/png": "[encoded data removed]",
            "text/plain": [
              "<Figure size 1440x720 with 1 Axes>"
            ]
          },
          "metadata": {
            "needs_background": "light"
          }
        }
      ]
    },
    {
      "cell_type": "code",
      "metadata": {
        "id": "EnVnBdC4vwa-",
        "colab": {
          "base_uri": "https://localhost:8080/",
          "height": 611
        },
        "outputId": "56d03fc6-4fec-48b8-911f-236ed58343dd"
      },
      "source": [
        "\n",
        "plt.figure(figsize=(20,10))\n",
        "ax = sns.countplot(x='status_group', hue=\"water_quality\", data=df)"
      ],
      "execution_count": null,
      "outputs": [
        {
          "output_type": "display_data",
          "data": {
            "image/png": "[encoded data removed]",
            "text/plain": [
              "<Figure size 1440x720 with 1 Axes>"
            ]
          },
          "metadata": {
            "needs_background": "light"
          }
        }
      ]
    },
    {
      "cell_type": "code",
      "metadata": {
        "id": "JxB80mYAvyQ2",
        "colab": {
          "base_uri": "https://localhost:8080/"
        },
        "outputId": "398effd9-4776-410a-88a3-ddfde97a4618"
      },
      "source": [
        "df['payment'].value_counts()"
      ],
      "execution_count": null,
      "outputs": [
        {
          "output_type": "execute_result",
          "data": {
            "text/plain": [
              "never pay                31712\n",
              "pay per bucket           11266\n",
              "pay monthly              10397\n",
              "unknown                  10149\n",
              "pay when scheme fails     4842\n",
              "pay annually              4570\n",
              "other                     1314\n",
              "Name: payment, dtype: int64"
            ]
          },
          "metadata": {},
          "execution_count": 27
        }
      ]
    },
    {
      "cell_type": "code",
      "metadata": {
        "id": "iB_1dTjpv2ce",
        "colab": {
          "base_uri": "https://localhost:8080/"
        },
        "outputId": "4a1fdc0e-1555-4f08-c4f9-f78b24ca3af8"
      },
      "source": [
        "df['payment_type'].value_counts()"
      ],
      "execution_count": null,
      "outputs": [
        {
          "output_type": "execute_result",
          "data": {
            "text/plain": [
              "never pay     31712\n",
              "per bucket    11266\n",
              "monthly       10397\n",
              "unknown       10149\n",
              "on failure     4842\n",
              "annually       4570\n",
              "other          1314\n",
              "Name: payment_type, dtype: int64"
            ]
          },
          "metadata": {},
          "execution_count": 28
        }
      ]
    },
    {
      "cell_type": "markdown",
      "metadata": {
        "id": "X2fmV0QEv4rm"
      },
      "source": [
        "As these 2 columns like to be same, we will drop one of them"
      ]
    },
    {
      "cell_type": "code",
      "metadata": {
        "id": "J-7xeX3Wv8O9",
        "colab": {
          "base_uri": "https://localhost:8080/",
          "height": 611
        },
        "outputId": "4dd3d41b-28f4-4841-db7e-868379f5a4a8"
      },
      "source": [
        "plt.figure(figsize=(20,10))\n",
        "ax = sns.countplot(x='payment', hue=\"status_group\", data=df)"
      ],
      "execution_count": null,
      "outputs": [
        {
          "output_type": "display_data",
          "data": {
            "image/png": "[encoded data removed]",
            "text/plain": [
              "<Figure size 1440x720 with 1 Axes>"
            ]
          },
          "metadata": {
            "needs_background": "light"
          }
        }
      ]
    },
    {
      "cell_type": "code",
      "metadata": {
        "id": "1dGBPLI6v-ub",
        "colab": {
          "base_uri": "https://localhost:8080/"
        },
        "outputId": "eb8042c6-e9af-441d-b7c3-212a1c02d830"
      },
      "source": [
        "df['extraction_type'].value_counts()"
      ],
      "execution_count": null,
      "outputs": [
        {
          "output_type": "execute_result",
          "data": {
            "text/plain": [
              "gravity                      33263\n",
              "nira/tanira                  10205\n",
              "other                         8102\n",
              "submersible                   5982\n",
              "swn 80                        4588\n",
              "mono                          3628\n",
              "india mark ii                 3029\n",
              "afridev                       2208\n",
              "ksb                           1790\n",
              "other - rope pump              572\n",
              "other - swn 81                 284\n",
              "windmill                       152\n",
              "india mark iii                 135\n",
              "cemo                           108\n",
              "other - play pump              101\n",
              "walimi                          60\n",
              "climax                          41\n",
              "other - mkulima/shinyanga        2\n",
              "Name: extraction_type, dtype: int64"
            ]
          },
          "metadata": {},
          "execution_count": 30
        }
      ]
    },
    {
      "cell_type": "code",
      "metadata": {
        "id": "C15fNVf_wI0r",
        "colab": {
          "base_uri": "https://localhost:8080/"
        },
        "outputId": "d0c61707-3ca8-4dbe-c84f-2c295de3a920"
      },
      "source": [
        "df['extraction_type_group'].value_counts()"
      ],
      "execution_count": null,
      "outputs": [
        {
          "output_type": "execute_result",
          "data": {
            "text/plain": [
              "gravity            33263\n",
              "nira/tanira        10205\n",
              "other               8102\n",
              "submersible         7772\n",
              "swn 80              4588\n",
              "mono                3628\n",
              "india mark ii       3029\n",
              "afridev             2208\n",
              "rope pump            572\n",
              "other handpump       447\n",
              "wind-powered         152\n",
              "other motorpump      149\n",
              "india mark iii       135\n",
              "Name: extraction_type_group, dtype: int64"
            ]
          },
          "metadata": {},
          "execution_count": 31
        }
      ]
    },
    {
      "cell_type": "code",
      "metadata": {
        "id": "-eChUXMjwLel",
        "colab": {
          "base_uri": "https://localhost:8080/"
        },
        "outputId": "cd9015c5-7d7a-470b-a543-ed9969c88c7d"
      },
      "source": [
        "df['extraction_type_class'].value_counts()"
      ],
      "execution_count": null,
      "outputs": [
        {
          "output_type": "execute_result",
          "data": {
            "text/plain": [
              "gravity         33263\n",
              "handpump        20612\n",
              "other            8102\n",
              "submersible      7772\n",
              "motorpump        3777\n",
              "rope pump         572\n",
              "wind-powered      152\n",
              "Name: extraction_type_class, dtype: int64"
            ]
          },
          "metadata": {},
          "execution_count": 32
        }
      ]
    },
    {
      "cell_type": "code",
      "metadata": {
        "id": "4xggOw0OwPQn",
        "colab": {
          "base_uri": "https://localhost:8080/",
          "height": 667
        },
        "outputId": "209e5a00-3742-4439-f5ea-c66208f1e49b"
      },
      "source": [
        "df.groupby(['extraction_type_class', 'extraction_type', 'extraction_type_group']).count()"
      ],
      "execution_count": null,
      "outputs": [
        {
          "output_type": "execute_result",
          "data": {
            "text/html": [
              "<div>\n",
              "<style scoped>\n",
              "    .dataframe tbody tr th:only-of-type {\n",
              "        vertical-align: middle;\n",
              "    }\n",
              "\n",
              "    .dataframe tbody tr th {\n",
              "        vertical-align: top;\n",
              "    }\n",
              "\n",
              "    .dataframe thead th {\n",
              "        text-align: right;\n",
              "    }\n",
              "</style>\n",
              "<table border=\"1\" class=\"dataframe\">\n",
              "  <thead>\n",
              "    <tr style=\"text-align: right;\">\n",
              "      <th></th>\n",
              "      <th></th>\n",
              "      <th></th>\n",
              "      <th>amount_tsh</th>\n",
              "      <th>date_recorded</th>\n",
              "      <th>funder</th>\n",
              "      <th>gps_height</th>\n",
              "      <th>installer</th>\n",
              "      <th>longitude</th>\n",
              "      <th>latitude</th>\n",
              "      <th>wpt_name</th>\n",
              "      <th>num_private</th>\n",
              "      <th>basin</th>\n",
              "      <th>subvillage</th>\n",
              "      <th>region</th>\n",
              "      <th>region_code</th>\n",
              "      <th>district_code</th>\n",
              "      <th>lga</th>\n",
              "      <th>ward</th>\n",
              "      <th>population</th>\n",
              "      <th>public_meeting</th>\n",
              "      <th>recorded_by</th>\n",
              "      <th>scheme_management</th>\n",
              "      <th>scheme_name</th>\n",
              "      <th>permit</th>\n",
              "      <th>construction_year</th>\n",
              "      <th>management</th>\n",
              "      <th>management_group</th>\n",
              "      <th>payment</th>\n",
              "      <th>payment_type</th>\n",
              "      <th>water_quality</th>\n",
              "      <th>quality_group</th>\n",
              "      <th>quantity</th>\n",
              "      <th>quantity_group</th>\n",
              "      <th>source</th>\n",
              "      <th>source_type</th>\n",
              "      <th>source_class</th>\n",
              "      <th>waterpoint_type</th>\n",
              "      <th>waterpoint_type_group</th>\n",
              "      <th>status_group</th>\n",
              "    </tr>\n",
              "    <tr>\n",
              "      <th>extraction_type_class</th>\n",
              "      <th>extraction_type</th>\n",
              "      <th>extraction_type_group</th>\n",
              "      <th></th>\n",
              "      <th></th>\n",
              "      <th></th>\n",
              "      <th></th>\n",
              "      <th></th>\n",
              "      <th></th>\n",
              "      <th></th>\n",
              "      <th></th>\n",
              "      <th></th>\n",
              "      <th></th>\n",
              "      <th></th>\n",
              "      <th></th>\n",
              "      <th></th>\n",
              "      <th></th>\n",
              "      <th></th>\n",
              "      <th></th>\n",
              "      <th></th>\n",
              "      <th></th>\n",
              "      <th></th>\n",
              "      <th></th>\n",
              "      <th></th>\n",
              "      <th></th>\n",
              "      <th></th>\n",
              "      <th></th>\n",
              "      <th></th>\n",
              "      <th></th>\n",
              "      <th></th>\n",
              "      <th></th>\n",
              "      <th></th>\n",
              "      <th></th>\n",
              "      <th></th>\n",
              "      <th></th>\n",
              "      <th></th>\n",
              "      <th></th>\n",
              "      <th></th>\n",
              "      <th></th>\n",
              "      <th></th>\n",
              "    </tr>\n",
              "  </thead>\n",
              "  <tbody>\n",
              "    <tr>\n",
              "      <th>gravity</th>\n",
              "      <th>gravity</th>\n",
              "      <th>gravity</th>\n",
              "      <td>33263</td>\n",
              "      <td>33263</td>\n",
              "      <td>30677</td>\n",
              "      <td>33263</td>\n",
              "      <td>30683</td>\n",
              "      <td>33263</td>\n",
              "      <td>33263</td>\n",
              "      <td>33263</td>\n",
              "      <td>33263</td>\n",
              "      <td>33263</td>\n",
              "      <td>33095</td>\n",
              "      <td>33263</td>\n",
              "      <td>33263</td>\n",
              "      <td>33263</td>\n",
              "      <td>33263</td>\n",
              "      <td>33263</td>\n",
              "      <td>33263</td>\n",
              "      <td>32103</td>\n",
              "      <td>33263</td>\n",
              "      <td>32686</td>\n",
              "      <td>27205</td>\n",
              "      <td>31339</td>\n",
              "      <td>33263</td>\n",
              "      <td>33263</td>\n",
              "      <td>33263</td>\n",
              "      <td>33263</td>\n",
              "      <td>33263</td>\n",
              "      <td>33263</td>\n",
              "      <td>33263</td>\n",
              "      <td>33263</td>\n",
              "      <td>33263</td>\n",
              "      <td>33263</td>\n",
              "      <td>33263</td>\n",
              "      <td>33263</td>\n",
              "      <td>33263</td>\n",
              "      <td>33263</td>\n",
              "      <td>26661</td>\n",
              "    </tr>\n",
              "    <tr>\n",
              "      <th rowspan=\"9\" valign=\"top\">handpump</th>\n",
              "      <th>afridev</th>\n",
              "      <th>afridev</th>\n",
              "      <td>2208</td>\n",
              "      <td>2208</td>\n",
              "      <td>2079</td>\n",
              "      <td>2208</td>\n",
              "      <td>2076</td>\n",
              "      <td>2208</td>\n",
              "      <td>2208</td>\n",
              "      <td>2208</td>\n",
              "      <td>2208</td>\n",
              "      <td>2208</td>\n",
              "      <td>2208</td>\n",
              "      <td>2208</td>\n",
              "      <td>2208</td>\n",
              "      <td>2208</td>\n",
              "      <td>2208</td>\n",
              "      <td>2208</td>\n",
              "      <td>2208</td>\n",
              "      <td>2021</td>\n",
              "      <td>2208</td>\n",
              "      <td>2012</td>\n",
              "      <td>262</td>\n",
              "      <td>2076</td>\n",
              "      <td>2208</td>\n",
              "      <td>2208</td>\n",
              "      <td>2208</td>\n",
              "      <td>2208</td>\n",
              "      <td>2208</td>\n",
              "      <td>2208</td>\n",
              "      <td>2208</td>\n",
              "      <td>2208</td>\n",
              "      <td>2208</td>\n",
              "      <td>2208</td>\n",
              "      <td>2208</td>\n",
              "      <td>2208</td>\n",
              "      <td>2208</td>\n",
              "      <td>2208</td>\n",
              "      <td>1777</td>\n",
              "    </tr>\n",
              "    <tr>\n",
              "      <th>india mark ii</th>\n",
              "      <th>india mark ii</th>\n",
              "      <td>3029</td>\n",
              "      <td>3029</td>\n",
              "      <td>2974</td>\n",
              "      <td>3029</td>\n",
              "      <td>2974</td>\n",
              "      <td>3029</td>\n",
              "      <td>3029</td>\n",
              "      <td>3029</td>\n",
              "      <td>3029</td>\n",
              "      <td>3029</td>\n",
              "      <td>3029</td>\n",
              "      <td>3029</td>\n",
              "      <td>3029</td>\n",
              "      <td>3029</td>\n",
              "      <td>3029</td>\n",
              "      <td>3029</td>\n",
              "      <td>3029</td>\n",
              "      <td>2901</td>\n",
              "      <td>3029</td>\n",
              "      <td>2780</td>\n",
              "      <td>252</td>\n",
              "      <td>2983</td>\n",
              "      <td>3029</td>\n",
              "      <td>3029</td>\n",
              "      <td>3029</td>\n",
              "      <td>3029</td>\n",
              "      <td>3029</td>\n",
              "      <td>3029</td>\n",
              "      <td>3029</td>\n",
              "      <td>3029</td>\n",
              "      <td>3029</td>\n",
              "      <td>3029</td>\n",
              "      <td>3029</td>\n",
              "      <td>3029</td>\n",
              "      <td>3029</td>\n",
              "      <td>3029</td>\n",
              "      <td>2429</td>\n",
              "    </tr>\n",
              "    <tr>\n",
              "      <th>india mark iii</th>\n",
              "      <th>india mark iii</th>\n",
              "      <td>135</td>\n",
              "      <td>135</td>\n",
              "      <td>135</td>\n",
              "      <td>135</td>\n",
              "      <td>135</td>\n",
              "      <td>135</td>\n",
              "      <td>135</td>\n",
              "      <td>135</td>\n",
              "      <td>135</td>\n",
              "      <td>135</td>\n",
              "      <td>135</td>\n",
              "      <td>135</td>\n",
              "      <td>135</td>\n",
              "      <td>135</td>\n",
              "      <td>135</td>\n",
              "      <td>135</td>\n",
              "      <td>135</td>\n",
              "      <td>122</td>\n",
              "      <td>135</td>\n",
              "      <td>134</td>\n",
              "      <td>4</td>\n",
              "      <td>135</td>\n",
              "      <td>135</td>\n",
              "      <td>135</td>\n",
              "      <td>135</td>\n",
              "      <td>135</td>\n",
              "      <td>135</td>\n",
              "      <td>135</td>\n",
              "      <td>135</td>\n",
              "      <td>135</td>\n",
              "      <td>135</td>\n",
              "      <td>135</td>\n",
              "      <td>135</td>\n",
              "      <td>135</td>\n",
              "      <td>135</td>\n",
              "      <td>135</td>\n",
              "      <td>111</td>\n",
              "    </tr>\n",
              "    <tr>\n",
              "      <th>nira/tanira</th>\n",
              "      <th>nira/tanira</th>\n",
              "      <td>10205</td>\n",
              "      <td>10205</td>\n",
              "      <td>9908</td>\n",
              "      <td>10205</td>\n",
              "      <td>9893</td>\n",
              "      <td>10205</td>\n",
              "      <td>10205</td>\n",
              "      <td>10205</td>\n",
              "      <td>10205</td>\n",
              "      <td>10205</td>\n",
              "      <td>10202</td>\n",
              "      <td>10205</td>\n",
              "      <td>10205</td>\n",
              "      <td>10205</td>\n",
              "      <td>10205</td>\n",
              "      <td>10205</td>\n",
              "      <td>10205</td>\n",
              "      <td>9366</td>\n",
              "      <td>10205</td>\n",
              "      <td>8965</td>\n",
              "      <td>945</td>\n",
              "      <td>9916</td>\n",
              "      <td>10205</td>\n",
              "      <td>10205</td>\n",
              "      <td>10205</td>\n",
              "      <td>10205</td>\n",
              "      <td>10205</td>\n",
              "      <td>10205</td>\n",
              "      <td>10205</td>\n",
              "      <td>10205</td>\n",
              "      <td>10205</td>\n",
              "      <td>10205</td>\n",
              "      <td>10205</td>\n",
              "      <td>10205</td>\n",
              "      <td>10205</td>\n",
              "      <td>10205</td>\n",
              "      <td>8228</td>\n",
              "    </tr>\n",
              "    <tr>\n",
              "      <th>other - mkulima/shinyanga</th>\n",
              "      <th>other handpump</th>\n",
              "      <td>2</td>\n",
              "      <td>2</td>\n",
              "      <td>1</td>\n",
              "      <td>2</td>\n",
              "      <td>2</td>\n",
              "      <td>2</td>\n",
              "      <td>2</td>\n",
              "      <td>2</td>\n",
              "      <td>2</td>\n",
              "      <td>2</td>\n",
              "      <td>2</td>\n",
              "      <td>2</td>\n",
              "      <td>2</td>\n",
              "      <td>2</td>\n",
              "      <td>2</td>\n",
              "      <td>2</td>\n",
              "      <td>2</td>\n",
              "      <td>2</td>\n",
              "      <td>2</td>\n",
              "      <td>2</td>\n",
              "      <td>0</td>\n",
              "      <td>2</td>\n",
              "      <td>2</td>\n",
              "      <td>2</td>\n",
              "      <td>2</td>\n",
              "      <td>2</td>\n",
              "      <td>2</td>\n",
              "      <td>2</td>\n",
              "      <td>2</td>\n",
              "      <td>2</td>\n",
              "      <td>2</td>\n",
              "      <td>2</td>\n",
              "      <td>2</td>\n",
              "      <td>2</td>\n",
              "      <td>2</td>\n",
              "      <td>2</td>\n",
              "      <td>2</td>\n",
              "    </tr>\n",
              "    <tr>\n",
              "      <th>other - play pump</th>\n",
              "      <th>other handpump</th>\n",
              "      <td>101</td>\n",
              "      <td>101</td>\n",
              "      <td>101</td>\n",
              "      <td>101</td>\n",
              "      <td>101</td>\n",
              "      <td>101</td>\n",
              "      <td>101</td>\n",
              "      <td>101</td>\n",
              "      <td>101</td>\n",
              "      <td>101</td>\n",
              "      <td>101</td>\n",
              "      <td>101</td>\n",
              "      <td>101</td>\n",
              "      <td>101</td>\n",
              "      <td>101</td>\n",
              "      <td>101</td>\n",
              "      <td>101</td>\n",
              "      <td>100</td>\n",
              "      <td>101</td>\n",
              "      <td>91</td>\n",
              "      <td>81</td>\n",
              "      <td>100</td>\n",
              "      <td>101</td>\n",
              "      <td>101</td>\n",
              "      <td>101</td>\n",
              "      <td>101</td>\n",
              "      <td>101</td>\n",
              "      <td>101</td>\n",
              "      <td>101</td>\n",
              "      <td>101</td>\n",
              "      <td>101</td>\n",
              "      <td>101</td>\n",
              "      <td>101</td>\n",
              "      <td>101</td>\n",
              "      <td>101</td>\n",
              "      <td>101</td>\n",
              "      <td>78</td>\n",
              "    </tr>\n",
              "    <tr>\n",
              "      <th>other - swn 81</th>\n",
              "      <th>other handpump</th>\n",
              "      <td>284</td>\n",
              "      <td>284</td>\n",
              "      <td>272</td>\n",
              "      <td>284</td>\n",
              "      <td>272</td>\n",
              "      <td>284</td>\n",
              "      <td>284</td>\n",
              "      <td>284</td>\n",
              "      <td>284</td>\n",
              "      <td>284</td>\n",
              "      <td>284</td>\n",
              "      <td>284</td>\n",
              "      <td>284</td>\n",
              "      <td>284</td>\n",
              "      <td>284</td>\n",
              "      <td>284</td>\n",
              "      <td>284</td>\n",
              "      <td>269</td>\n",
              "      <td>284</td>\n",
              "      <td>281</td>\n",
              "      <td>17</td>\n",
              "      <td>274</td>\n",
              "      <td>284</td>\n",
              "      <td>284</td>\n",
              "      <td>284</td>\n",
              "      <td>284</td>\n",
              "      <td>284</td>\n",
              "      <td>284</td>\n",
              "      <td>284</td>\n",
              "      <td>284</td>\n",
              "      <td>284</td>\n",
              "      <td>284</td>\n",
              "      <td>284</td>\n",
              "      <td>284</td>\n",
              "      <td>284</td>\n",
              "      <td>284</td>\n",
              "      <td>224</td>\n",
              "    </tr>\n",
              "    <tr>\n",
              "      <th>swn 80</th>\n",
              "      <th>swn 80</th>\n",
              "      <td>4588</td>\n",
              "      <td>4588</td>\n",
              "      <td>4505</td>\n",
              "      <td>4588</td>\n",
              "      <td>4501</td>\n",
              "      <td>4588</td>\n",
              "      <td>4588</td>\n",
              "      <td>4588</td>\n",
              "      <td>4588</td>\n",
              "      <td>4588</td>\n",
              "      <td>4588</td>\n",
              "      <td>4588</td>\n",
              "      <td>4588</td>\n",
              "      <td>4588</td>\n",
              "      <td>4588</td>\n",
              "      <td>4588</td>\n",
              "      <td>4588</td>\n",
              "      <td>4381</td>\n",
              "      <td>4588</td>\n",
              "      <td>3871</td>\n",
              "      <td>197</td>\n",
              "      <td>4571</td>\n",
              "      <td>4588</td>\n",
              "      <td>4588</td>\n",
              "      <td>4588</td>\n",
              "      <td>4588</td>\n",
              "      <td>4588</td>\n",
              "      <td>4588</td>\n",
              "      <td>4588</td>\n",
              "      <td>4588</td>\n",
              "      <td>4588</td>\n",
              "      <td>4588</td>\n",
              "      <td>4588</td>\n",
              "      <td>4588</td>\n",
              "      <td>4588</td>\n",
              "      <td>4588</td>\n",
              "      <td>3647</td>\n",
              "    </tr>\n",
              "    <tr>\n",
              "      <th>walimi</th>\n",
              "      <th>other handpump</th>\n",
              "      <td>60</td>\n",
              "      <td>60</td>\n",
              "      <td>60</td>\n",
              "      <td>60</td>\n",
              "      <td>60</td>\n",
              "      <td>60</td>\n",
              "      <td>60</td>\n",
              "      <td>60</td>\n",
              "      <td>60</td>\n",
              "      <td>60</td>\n",
              "      <td>60</td>\n",
              "      <td>60</td>\n",
              "      <td>60</td>\n",
              "      <td>60</td>\n",
              "      <td>60</td>\n",
              "      <td>60</td>\n",
              "      <td>60</td>\n",
              "      <td>57</td>\n",
              "      <td>60</td>\n",
              "      <td>59</td>\n",
              "      <td>0</td>\n",
              "      <td>60</td>\n",
              "      <td>60</td>\n",
              "      <td>60</td>\n",
              "      <td>60</td>\n",
              "      <td>60</td>\n",
              "      <td>60</td>\n",
              "      <td>60</td>\n",
              "      <td>60</td>\n",
              "      <td>60</td>\n",
              "      <td>60</td>\n",
              "      <td>60</td>\n",
              "      <td>60</td>\n",
              "      <td>60</td>\n",
              "      <td>60</td>\n",
              "      <td>60</td>\n",
              "      <td>45</td>\n",
              "    </tr>\n",
              "    <tr>\n",
              "      <th rowspan=\"3\" valign=\"top\">motorpump</th>\n",
              "      <th>cemo</th>\n",
              "      <th>other motorpump</th>\n",
              "      <td>108</td>\n",
              "      <td>108</td>\n",
              "      <td>108</td>\n",
              "      <td>108</td>\n",
              "      <td>108</td>\n",
              "      <td>108</td>\n",
              "      <td>108</td>\n",
              "      <td>108</td>\n",
              "      <td>108</td>\n",
              "      <td>108</td>\n",
              "      <td>108</td>\n",
              "      <td>108</td>\n",
              "      <td>108</td>\n",
              "      <td>108</td>\n",
              "      <td>108</td>\n",
              "      <td>108</td>\n",
              "      <td>108</td>\n",
              "      <td>108</td>\n",
              "      <td>108</td>\n",
              "      <td>107</td>\n",
              "      <td>107</td>\n",
              "      <td>108</td>\n",
              "      <td>108</td>\n",
              "      <td>108</td>\n",
              "      <td>108</td>\n",
              "      <td>108</td>\n",
              "      <td>108</td>\n",
              "      <td>108</td>\n",
              "      <td>108</td>\n",
              "      <td>108</td>\n",
              "      <td>108</td>\n",
              "      <td>108</td>\n",
              "      <td>108</td>\n",
              "      <td>108</td>\n",
              "      <td>108</td>\n",
              "      <td>108</td>\n",
              "      <td>89</td>\n",
              "    </tr>\n",
              "    <tr>\n",
              "      <th>climax</th>\n",
              "      <th>other motorpump</th>\n",
              "      <td>41</td>\n",
              "      <td>41</td>\n",
              "      <td>41</td>\n",
              "      <td>41</td>\n",
              "      <td>41</td>\n",
              "      <td>41</td>\n",
              "      <td>41</td>\n",
              "      <td>41</td>\n",
              "      <td>41</td>\n",
              "      <td>41</td>\n",
              "      <td>41</td>\n",
              "      <td>41</td>\n",
              "      <td>41</td>\n",
              "      <td>41</td>\n",
              "      <td>41</td>\n",
              "      <td>41</td>\n",
              "      <td>41</td>\n",
              "      <td>41</td>\n",
              "      <td>41</td>\n",
              "      <td>41</td>\n",
              "      <td>38</td>\n",
              "      <td>41</td>\n",
              "      <td>41</td>\n",
              "      <td>41</td>\n",
              "      <td>41</td>\n",
              "      <td>41</td>\n",
              "      <td>41</td>\n",
              "      <td>41</td>\n",
              "      <td>41</td>\n",
              "      <td>41</td>\n",
              "      <td>41</td>\n",
              "      <td>41</td>\n",
              "      <td>41</td>\n",
              "      <td>41</td>\n",
              "      <td>41</td>\n",
              "      <td>41</td>\n",
              "      <td>36</td>\n",
              "    </tr>\n",
              "    <tr>\n",
              "      <th>mono</th>\n",
              "      <th>mono</th>\n",
              "      <td>3628</td>\n",
              "      <td>3628</td>\n",
              "      <td>3272</td>\n",
              "      <td>3628</td>\n",
              "      <td>3272</td>\n",
              "      <td>3628</td>\n",
              "      <td>3628</td>\n",
              "      <td>3628</td>\n",
              "      <td>3628</td>\n",
              "      <td>3628</td>\n",
              "      <td>3479</td>\n",
              "      <td>3628</td>\n",
              "      <td>3628</td>\n",
              "      <td>3628</td>\n",
              "      <td>3628</td>\n",
              "      <td>3628</td>\n",
              "      <td>3628</td>\n",
              "      <td>3491</td>\n",
              "      <td>3628</td>\n",
              "      <td>3608</td>\n",
              "      <td>2810</td>\n",
              "      <td>3280</td>\n",
              "      <td>3628</td>\n",
              "      <td>3628</td>\n",
              "      <td>3628</td>\n",
              "      <td>3628</td>\n",
              "      <td>3628</td>\n",
              "      <td>3628</td>\n",
              "      <td>3628</td>\n",
              "      <td>3628</td>\n",
              "      <td>3628</td>\n",
              "      <td>3628</td>\n",
              "      <td>3628</td>\n",
              "      <td>3628</td>\n",
              "      <td>3628</td>\n",
              "      <td>3628</td>\n",
              "      <td>2860</td>\n",
              "    </tr>\n",
              "    <tr>\n",
              "      <th>other</th>\n",
              "      <th>other</th>\n",
              "      <th>other</th>\n",
              "      <td>8102</td>\n",
              "      <td>8102</td>\n",
              "      <td>7572</td>\n",
              "      <td>8102</td>\n",
              "      <td>7564</td>\n",
              "      <td>8102</td>\n",
              "      <td>8102</td>\n",
              "      <td>8102</td>\n",
              "      <td>8102</td>\n",
              "      <td>8102</td>\n",
              "      <td>8091</td>\n",
              "      <td>8102</td>\n",
              "      <td>8102</td>\n",
              "      <td>8102</td>\n",
              "      <td>8102</td>\n",
              "      <td>8102</td>\n",
              "      <td>8102</td>\n",
              "      <td>7544</td>\n",
              "      <td>8102</td>\n",
              "      <td>6580</td>\n",
              "      <td>1156</td>\n",
              "      <td>7627</td>\n",
              "      <td>8102</td>\n",
              "      <td>8102</td>\n",
              "      <td>8102</td>\n",
              "      <td>8102</td>\n",
              "      <td>8102</td>\n",
              "      <td>8102</td>\n",
              "      <td>8102</td>\n",
              "      <td>8102</td>\n",
              "      <td>8102</td>\n",
              "      <td>8102</td>\n",
              "      <td>8102</td>\n",
              "      <td>8102</td>\n",
              "      <td>8102</td>\n",
              "      <td>8102</td>\n",
              "      <td>6389</td>\n",
              "    </tr>\n",
              "    <tr>\n",
              "      <th>rope pump</th>\n",
              "      <th>other - rope pump</th>\n",
              "      <th>rope pump</th>\n",
              "      <td>572</td>\n",
              "      <td>572</td>\n",
              "      <td>565</td>\n",
              "      <td>572</td>\n",
              "      <td>565</td>\n",
              "      <td>572</td>\n",
              "      <td>572</td>\n",
              "      <td>572</td>\n",
              "      <td>572</td>\n",
              "      <td>572</td>\n",
              "      <td>572</td>\n",
              "      <td>572</td>\n",
              "      <td>572</td>\n",
              "      <td>572</td>\n",
              "      <td>572</td>\n",
              "      <td>572</td>\n",
              "      <td>572</td>\n",
              "      <td>437</td>\n",
              "      <td>572</td>\n",
              "      <td>471</td>\n",
              "      <td>39</td>\n",
              "      <td>438</td>\n",
              "      <td>572</td>\n",
              "      <td>572</td>\n",
              "      <td>572</td>\n",
              "      <td>572</td>\n",
              "      <td>572</td>\n",
              "      <td>572</td>\n",
              "      <td>572</td>\n",
              "      <td>572</td>\n",
              "      <td>572</td>\n",
              "      <td>572</td>\n",
              "      <td>572</td>\n",
              "      <td>572</td>\n",
              "      <td>572</td>\n",
              "      <td>572</td>\n",
              "      <td>453</td>\n",
              "    </tr>\n",
              "    <tr>\n",
              "      <th rowspan=\"2\" valign=\"top\">submersible</th>\n",
              "      <th>ksb</th>\n",
              "      <th>submersible</th>\n",
              "      <td>1790</td>\n",
              "      <td>1790</td>\n",
              "      <td>1785</td>\n",
              "      <td>1790</td>\n",
              "      <td>1784</td>\n",
              "      <td>1790</td>\n",
              "      <td>1790</td>\n",
              "      <td>1790</td>\n",
              "      <td>1790</td>\n",
              "      <td>1790</td>\n",
              "      <td>1790</td>\n",
              "      <td>1790</td>\n",
              "      <td>1790</td>\n",
              "      <td>1790</td>\n",
              "      <td>1790</td>\n",
              "      <td>1790</td>\n",
              "      <td>1790</td>\n",
              "      <td>1696</td>\n",
              "      <td>1790</td>\n",
              "      <td>1780</td>\n",
              "      <td>1521</td>\n",
              "      <td>1785</td>\n",
              "      <td>1790</td>\n",
              "      <td>1790</td>\n",
              "      <td>1790</td>\n",
              "      <td>1790</td>\n",
              "      <td>1790</td>\n",
              "      <td>1790</td>\n",
              "      <td>1790</td>\n",
              "      <td>1790</td>\n",
              "      <td>1790</td>\n",
              "      <td>1790</td>\n",
              "      <td>1790</td>\n",
              "      <td>1790</td>\n",
              "      <td>1790</td>\n",
              "      <td>1790</td>\n",
              "      <td>1440</td>\n",
              "    </tr>\n",
              "    <tr>\n",
              "      <th>submersible</th>\n",
              "      <th>submersible</th>\n",
              "      <td>5982</td>\n",
              "      <td>5982</td>\n",
              "      <td>5544</td>\n",
              "      <td>5982</td>\n",
              "      <td>5540</td>\n",
              "      <td>5982</td>\n",
              "      <td>5982</td>\n",
              "      <td>5982</td>\n",
              "      <td>5982</td>\n",
              "      <td>5982</td>\n",
              "      <td>5843</td>\n",
              "      <td>5982</td>\n",
              "      <td>5982</td>\n",
              "      <td>5982</td>\n",
              "      <td>5982</td>\n",
              "      <td>5982</td>\n",
              "      <td>5982</td>\n",
              "      <td>5306</td>\n",
              "      <td>5982</td>\n",
              "      <td>5784</td>\n",
              "      <td>4254</td>\n",
              "      <td>5584</td>\n",
              "      <td>5982</td>\n",
              "      <td>5982</td>\n",
              "      <td>5982</td>\n",
              "      <td>5982</td>\n",
              "      <td>5982</td>\n",
              "      <td>5982</td>\n",
              "      <td>5982</td>\n",
              "      <td>5982</td>\n",
              "      <td>5982</td>\n",
              "      <td>5982</td>\n",
              "      <td>5982</td>\n",
              "      <td>5982</td>\n",
              "      <td>5982</td>\n",
              "      <td>5982</td>\n",
              "      <td>4814</td>\n",
              "    </tr>\n",
              "    <tr>\n",
              "      <th>wind-powered</th>\n",
              "      <th>windmill</th>\n",
              "      <th>wind-powered</th>\n",
              "      <td>152</td>\n",
              "      <td>152</td>\n",
              "      <td>147</td>\n",
              "      <td>152</td>\n",
              "      <td>147</td>\n",
              "      <td>152</td>\n",
              "      <td>152</td>\n",
              "      <td>152</td>\n",
              "      <td>152</td>\n",
              "      <td>152</td>\n",
              "      <td>152</td>\n",
              "      <td>152</td>\n",
              "      <td>152</td>\n",
              "      <td>152</td>\n",
              "      <td>152</td>\n",
              "      <td>152</td>\n",
              "      <td>152</td>\n",
              "      <td>150</td>\n",
              "      <td>152</td>\n",
              "      <td>152</td>\n",
              "      <td>104</td>\n",
              "      <td>138</td>\n",
              "      <td>152</td>\n",
              "      <td>152</td>\n",
              "      <td>152</td>\n",
              "      <td>152</td>\n",
              "      <td>152</td>\n",
              "      <td>152</td>\n",
              "      <td>152</td>\n",
              "      <td>152</td>\n",
              "      <td>152</td>\n",
              "      <td>152</td>\n",
              "      <td>152</td>\n",
              "      <td>152</td>\n",
              "      <td>152</td>\n",
              "      <td>152</td>\n",
              "      <td>117</td>\n",
              "    </tr>\n",
              "  </tbody>\n",
              "</table>\n",
              "</div>"
            ],
            "text/plain": [
              "                                                                       amount_tsh  ...  status_group\n",
              "extraction_type_class extraction_type           extraction_type_group              ...              \n",
              "gravity               gravity                   gravity                     33263  ...         26661\n",
              "handpump              afridev                   afridev                      2208  ...          1777\n",
              "                      india mark ii             india mark ii                3029  ...          2429\n",
              "                      india mark iii            india mark iii                135  ...           111\n",
              "                      nira/tanira               nira/tanira                 10205  ...          8228\n",
              "                      other - mkulima/shinyanga other handpump                  2  ...             2\n",
              "                      other - play pump         other handpump                101  ...            78\n",
              "                      other - swn 81            other handpump                284  ...           224\n",
              "                      swn 80                    swn 80                       4588  ...          3647\n",
              "                      walimi                    other handpump                 60  ...            45\n",
              "motorpump             cemo                      other motorpump               108  ...            89\n",
              "                      climax                    other motorpump                41  ...            36\n",
              "                      mono                      mono                         3628  ...          2860\n",
              "other                 other                     other                        8102  ...          6389\n",
              "rope pump             other - rope pump         rope pump                     572  ...           453\n",
              "submersible           ksb                       submersible                  1790  ...          1440\n",
              "                      submersible               submersible                  5982  ...          4814\n",
              "wind-powered          windmill                  wind-powered                  152  ...           117\n",
              "\n",
              "[18 rows x 37 columns]"
            ]
          },
          "metadata": {},
          "execution_count": 33
        }
      ]
    },
    {
      "cell_type": "markdown",
      "metadata": {
        "id": "Dp-MwvIzw_Td"
      },
      "source": [
        "Decided to use  'extraction_type_group' or 'extraction_type' columns. Although 'extraction_type' has more unique values than 'extraction_type_group', and decided to keep 'extraction_type_group' as the other one has some values with extremely low amount"
      ]
    },
    {
      "cell_type": "code",
      "metadata": {
        "id": "EffFiG7MxQgl",
        "colab": {
          "base_uri": "https://localhost:8080/",
          "height": 611
        },
        "outputId": "745ef675-8257-4761-b476-a080f3a2cbf2"
      },
      "source": [
        "plt.figure(figsize=(20,10))\n",
        "ax = sns.countplot(x='extraction_type_class', hue=\"status_group\", data=df)"
      ],
      "execution_count": null,
      "outputs": [
        {
          "output_type": "display_data",
          "data": {
            "image/png": "[encoded data removed]",
            "text/plain": [
              "<Figure size 1440x720 with 1 Axes>"
            ]
          },
          "metadata": {
            "needs_background": "light"
          }
        }
      ]
    },
    {
      "cell_type": "code",
      "metadata": {
        "id": "Zf1AG32FxTz-",
        "colab": {
          "base_uri": "https://localhost:8080/",
          "height": 611
        },
        "outputId": "5d2f5ff3-f59c-42f7-9a2f-20b138665d73"
      },
      "source": [
        "plt.figure(figsize=(20,10))\n",
        "ax = sns.countplot(x='extraction_type', hue=\"status_group\", data=df)"
      ],
      "execution_count": null,
      "outputs": [
        {
          "output_type": "display_data",
          "data": {
            "image/png": "[encoded data removed]",
            "text/plain": [
              "<Figure size 1440x720 with 1 Axes>"
            ]
          },
          "metadata": {
            "needs_background": "light"
          }
        }
      ]
    },
    {
      "cell_type": "code",
      "metadata": {
        "id": "a7Y5vg01xWxQ",
        "colab": {
          "base_uri": "https://localhost:8080/"
        },
        "outputId": "962b2c4c-5a6c-4f48-9707-74bc0e18e1f0"
      },
      "source": [
        "df['waterpoint_type'].value_counts()"
      ],
      "execution_count": null,
      "outputs": [
        {
          "output_type": "execute_result",
          "data": {
            "text/plain": [
              "communal standpipe             35628\n",
              "hand pump                      21884\n",
              "other                           8010\n",
              "communal standpipe multiple     7611\n",
              "improved spring                  959\n",
              "cattle trough                    150\n",
              "dam                                8\n",
              "Name: waterpoint_type, dtype: int64"
            ]
          },
          "metadata": {},
          "execution_count": 36
        }
      ]
    },
    {
      "cell_type": "code",
      "metadata": {
        "id": "tK5_CcuFxbJW",
        "colab": {
          "base_uri": "https://localhost:8080/"
        },
        "outputId": "b0d05d56-9c7d-4058-e8c7-217ca9e6db46"
      },
      "source": [
        "df['waterpoint_type_group'].value_counts()"
      ],
      "execution_count": null,
      "outputs": [
        {
          "output_type": "execute_result",
          "data": {
            "text/plain": [
              "communal standpipe    43239\n",
              "hand pump             21884\n",
              "other                  8010\n",
              "improved spring         959\n",
              "cattle trough           150\n",
              "dam                       8\n",
              "Name: waterpoint_type_group, dtype: int64"
            ]
          },
          "metadata": {},
          "execution_count": 37
        }
      ]
    },
    {
      "cell_type": "markdown",
      "metadata": {
        "id": "y9FYYCbxxfw8"
      },
      "source": [
        "Decided to keep 'waterpoint_type' which contains more detail."
      ]
    },
    {
      "cell_type": "code",
      "metadata": {
        "id": "FwnPMYDQxgim",
        "colab": {
          "base_uri": "https://localhost:8080/",
          "height": 611
        },
        "outputId": "678b6642-00ef-4aa8-c1a9-fb7a20cb3806"
      },
      "source": [
        "plt.figure(figsize=(20,10))\n",
        "ax = sns.countplot(x='waterpoint_type', hue=\"status_group\", data=df)"
      ],
      "execution_count": null,
      "outputs": [
        {
          "output_type": "display_data",
          "data": {
            "image/png": "[encoded data removed]",
            "text/plain": [
              "<Figure size 1440x720 with 1 Axes>"
            ]
          },
          "metadata": {
            "needs_background": "light"
          }
        }
      ]
    },
    {
      "cell_type": "markdown",
      "metadata": {
        "id": "CBFuBaIRxmEe"
      },
      "source": [
        "**Dropping Columns**"
      ]
    },
    {
      "cell_type": "code",
      "metadata": {
        "id": "FUSOhg9Gxqjf"
      },
      "source": [
        "df.drop(columns=['management_group','scheme_management','quantity_group','source_class','source_type','quality_group',\n",
        "                'payment_type','extraction_type_class','extraction_type', 'waterpoint_type_group'],inplace=True )"
      ],
      "execution_count": null,
      "outputs": []
    },
    {
      "cell_type": "code",
      "metadata": {
        "id": "dSAG13T0yS1V",
        "colab": {
          "base_uri": "https://localhost:8080/"
        },
        "outputId": "af732539-9a96-4f48-a56b-991ce4b3a89f"
      },
      "source": [
        "\n",
        "df['construction_year'].value_counts()"
      ],
      "execution_count": null,
      "outputs": [
        {
          "output_type": "execute_result",
          "data": {
            "text/plain": [
              "0       25969\n",
              "2010     3314\n",
              "2008     3243\n",
              "2009     3196\n",
              "2000     2578\n",
              "2007     1960\n",
              "2006     1892\n",
              "2011     1591\n",
              "2003     1579\n",
              "2004     1417\n",
              "2012     1347\n",
              "2002     1343\n",
              "1995     1283\n",
              "2005     1275\n",
              "1978     1267\n",
              "1999     1222\n",
              "1998     1190\n",
              "1985     1177\n",
              "1990     1176\n",
              "1996     1020\n",
              "1980     1005\n",
              "1984      970\n",
              "1994      940\n",
              "1982      926\n",
              "1972      892\n",
              "1997      821\n",
              "1974      814\n",
              "1992      807\n",
              "1993      745\n",
              "2001      680\n",
              "1988      657\n",
              "1983      594\n",
              "1975      561\n",
              "1986      553\n",
              "1976      525\n",
              "1970      493\n",
              "1991      407\n",
              "1989      396\n",
              "1987      370\n",
              "1981      291\n",
              "1977      247\n",
              "1979      245\n",
              "1973      227\n",
              "2013      209\n",
              "1971      177\n",
              "1960      124\n",
              "1963      107\n",
              "1967      106\n",
              "1968       93\n",
              "1969       77\n",
              "1964       48\n",
              "1962       36\n",
              "1961       28\n",
              "1965       21\n",
              "1966       19\n",
              "Name: construction_year, dtype: int64"
            ]
          },
          "metadata": {},
          "execution_count": 40
        }
      ]
    },
    {
      "cell_type": "code",
      "metadata": {
        "id": "wrxXzgQlxkFN"
      },
      "source": [
        "df['decade'] = df['construction_year'] #creating new columns"
      ],
      "execution_count": null,
      "outputs": []
    },
    {
      "cell_type": "code",
      "metadata": {
        "id": "vmX-XFivyX9V"
      },
      "source": [
        "df['decade'].replace(to_replace = (1960,1961,1962,1963,1964,1965,1966,1967,1968,1969),\n",
        "                        value ='60s' , inplace=True)\n",
        "df['decade'].replace(to_replace = (1970,1971,1972,1973,1974,1975,1976,1977,1978,1979),\n",
        "                        value ='70s' , inplace=True)\n",
        "df['decade'].replace(to_replace = (1980,1981,1982,1983,1984,1985,1986,1987,1988,1989),\n",
        "                        value ='80s' , inplace=True)\n",
        "df['decade'].replace(to_replace = (1990,1991,1992,1993,1994,1995,1996,1997,1998,1999),\n",
        "                        value ='90s' , inplace=True)\n",
        "df['decade'].replace(to_replace = (2000,2001,2002,2003,2004,2005,2006,2007,2008,2009),\n",
        "                        value ='00s' , inplace=True)\n",
        "df['decade'].replace(to_replace = (2010,2011,2012,2013),\n",
        "                        value ='10s' , inplace=True)"
      ],
      "execution_count": null,
      "outputs": []
    },
    {
      "cell_type": "markdown",
      "metadata": {
        "id": "YLKYAHScin4n"
      },
      "source": [
        "Decided to convert the construction year according to decade"
      ]
    },
    {
      "cell_type": "code",
      "metadata": {
        "id": "SnhDWjpKydbV",
        "colab": {
          "base_uri": "https://localhost:8080/"
        },
        "outputId": "f6c86c34-6723-4272-abdb-804b32f129da"
      },
      "source": [
        "df['decade'].value_counts()"
      ],
      "execution_count": null,
      "outputs": [
        {
          "output_type": "execute_result",
          "data": {
            "text/plain": [
              "0      25969\n",
              "00s    19163\n",
              "90s     9611\n",
              "80s     6939\n",
              "10s     6461\n",
              "70s     5448\n",
              "60s      659\n",
              "Name: decade, dtype: int64"
            ]
          },
          "metadata": {},
          "execution_count": 43
        }
      ]
    },
    {
      "cell_type": "code",
      "metadata": {
        "id": "WMV3tPgMynks",
        "colab": {
          "base_uri": "https://localhost:8080/",
          "height": 294
        },
        "outputId": "25d61fe0-2589-40c4-ee54-72be3ba59668"
      },
      "source": [
        "df.loc[df['construction_year']!=0].describe()"
      ],
      "execution_count": null,
      "outputs": [
        {
          "output_type": "execute_result",
          "data": {
            "text/html": [
              "<div>\n",
              "<style scoped>\n",
              "    .dataframe tbody tr th:only-of-type {\n",
              "        vertical-align: middle;\n",
              "    }\n",
              "\n",
              "    .dataframe tbody tr th {\n",
              "        vertical-align: top;\n",
              "    }\n",
              "\n",
              "    .dataframe thead th {\n",
              "        text-align: right;\n",
              "    }\n",
              "</style>\n",
              "<table border=\"1\" class=\"dataframe\">\n",
              "  <thead>\n",
              "    <tr style=\"text-align: right;\">\n",
              "      <th></th>\n",
              "      <th>amount_tsh</th>\n",
              "      <th>gps_height</th>\n",
              "      <th>longitude</th>\n",
              "      <th>latitude</th>\n",
              "      <th>num_private</th>\n",
              "      <th>region_code</th>\n",
              "      <th>district_code</th>\n",
              "      <th>population</th>\n",
              "      <th>construction_year</th>\n",
              "    </tr>\n",
              "  </thead>\n",
              "  <tbody>\n",
              "    <tr>\n",
              "      <th>count</th>\n",
              "      <td>48281.000000</td>\n",
              "      <td>48281.000000</td>\n",
              "      <td>48281.000000</td>\n",
              "      <td>48281.000000</td>\n",
              "      <td>48281.000000</td>\n",
              "      <td>48281.000000</td>\n",
              "      <td>48281.000000</td>\n",
              "      <td>48281.000000</td>\n",
              "      <td>48281.000000</td>\n",
              "    </tr>\n",
              "    <tr>\n",
              "      <th>mean</th>\n",
              "      <td>469.739275</td>\n",
              "      <td>1000.202709</td>\n",
              "      <td>35.986840</td>\n",
              "      <td>-6.237147</td>\n",
              "      <td>0.693088</td>\n",
              "      <td>15.669559</td>\n",
              "      <td>5.967006</td>\n",
              "      <td>271.572233</td>\n",
              "      <td>1996.870943</td>\n",
              "    </tr>\n",
              "    <tr>\n",
              "      <th>std</th>\n",
              "      <td>3456.533934</td>\n",
              "      <td>618.538809</td>\n",
              "      <td>2.559941</td>\n",
              "      <td>2.760997</td>\n",
              "      <td>14.240205</td>\n",
              "      <td>20.937445</td>\n",
              "      <td>10.709279</td>\n",
              "      <td>552.329367</td>\n",
              "      <td>12.440524</td>\n",
              "    </tr>\n",
              "    <tr>\n",
              "      <th>min</th>\n",
              "      <td>0.000000</td>\n",
              "      <td>-63.000000</td>\n",
              "      <td>29.607122</td>\n",
              "      <td>-11.649440</td>\n",
              "      <td>0.000000</td>\n",
              "      <td>2.000000</td>\n",
              "      <td>1.000000</td>\n",
              "      <td>0.000000</td>\n",
              "      <td>1960.000000</td>\n",
              "    </tr>\n",
              "    <tr>\n",
              "      <th>25%</th>\n",
              "      <td>0.000000</td>\n",
              "      <td>369.000000</td>\n",
              "      <td>34.676387</td>\n",
              "      <td>-8.744394</td>\n",
              "      <td>0.000000</td>\n",
              "      <td>4.000000</td>\n",
              "      <td>2.000000</td>\n",
              "      <td>30.000000</td>\n",
              "      <td>1988.000000</td>\n",
              "    </tr>\n",
              "    <tr>\n",
              "      <th>50%</th>\n",
              "      <td>0.000000</td>\n",
              "      <td>1153.000000</td>\n",
              "      <td>36.653857</td>\n",
              "      <td>-6.078797</td>\n",
              "      <td>0.000000</td>\n",
              "      <td>10.000000</td>\n",
              "      <td>3.000000</td>\n",
              "      <td>150.000000</td>\n",
              "      <td>2000.000000</td>\n",
              "    </tr>\n",
              "    <tr>\n",
              "      <th>75%</th>\n",
              "      <td>200.000000</td>\n",
              "      <td>1486.000000</td>\n",
              "      <td>37.814225</td>\n",
              "      <td>-3.654467</td>\n",
              "      <td>0.000000</td>\n",
              "      <td>16.000000</td>\n",
              "      <td>5.000000</td>\n",
              "      <td>312.000000</td>\n",
              "      <td>2008.000000</td>\n",
              "    </tr>\n",
              "    <tr>\n",
              "      <th>max</th>\n",
              "      <td>350000.000000</td>\n",
              "      <td>2777.000000</td>\n",
              "      <td>40.345193</td>\n",
              "      <td>-1.042375</td>\n",
              "      <td>1776.000000</td>\n",
              "      <td>99.000000</td>\n",
              "      <td>63.000000</td>\n",
              "      <td>30500.000000</td>\n",
              "      <td>2013.000000</td>\n",
              "    </tr>\n",
              "  </tbody>\n",
              "</table>\n",
              "</div>"
            ],
            "text/plain": [
              "          amount_tsh    gps_height  ...    population  construction_year\n",
              "count   48281.000000  48281.000000  ...  48281.000000       48281.000000\n",
              "mean      469.739275   1000.202709  ...    271.572233        1996.870943\n",
              "std      3456.533934    618.538809  ...    552.329367          12.440524\n",
              "min         0.000000    -63.000000  ...      0.000000        1960.000000\n",
              "25%         0.000000    369.000000  ...     30.000000        1988.000000\n",
              "50%         0.000000   1153.000000  ...    150.000000        2000.000000\n",
              "75%       200.000000   1486.000000  ...    312.000000        2008.000000\n",
              "max    350000.000000   2777.000000  ...  30500.000000        2013.000000\n",
              "\n",
              "[8 rows x 9 columns]"
            ]
          },
          "metadata": {},
          "execution_count": 44
        }
      ]
    },
    {
      "cell_type": "code",
      "metadata": {
        "id": "nF9UcDjeypHV"
      },
      "source": [
        "df['construction_year'].replace(to_replace = 0, value = 2000, inplace=True)"
      ],
      "execution_count": null,
      "outputs": []
    },
    {
      "cell_type": "code",
      "metadata": {
        "id": "9mr8ZzfPyuco",
        "colab": {
          "base_uri": "https://localhost:8080/",
          "height": 611
        },
        "outputId": "e4ff5b61-8d12-4256-d6f2-989ca9fef296"
      },
      "source": [
        "\n",
        "plt.figure(figsize=(20,10))\n",
        "ax = sns.countplot(x='decade', hue=\"status_group\", data=df)"
      ],
      "execution_count": null,
      "outputs": [
        {
          "output_type": "display_data",
          "data": {
            "image/png": "[encoded data removed]",
            "text/plain": [
              "<Figure size 1440x720 with 1 Axes>"
            ]
          },
          "metadata": {
            "needs_background": "light"
          }
        }
      ]
    },
    {
      "cell_type": "code",
      "metadata": {
        "id": "Z6w1kQgfyyPt",
        "colab": {
          "base_uri": "https://localhost:8080/"
        },
        "outputId": "18479260-4230-4567-9837-b5985074d6fb"
      },
      "source": [
        "df['recorded_by'].value_counts()"
      ],
      "execution_count": null,
      "outputs": [
        {
          "output_type": "execute_result",
          "data": {
            "text/plain": [
              "GeoData Consultants Ltd    74250\n",
              "Name: recorded_by, dtype: int64"
            ]
          },
          "metadata": {},
          "execution_count": 47
        }
      ]
    },
    {
      "cell_type": "markdown",
      "metadata": {
        "id": "rm31p5pbyzWe"
      },
      "source": [
        "As all the values are same I dropped this columns"
      ]
    },
    {
      "cell_type": "code",
      "metadata": {
        "id": "_TtjStU5y4LR"
      },
      "source": [
        "df.drop(columns=['recorded_by'],inplace=True )"
      ],
      "execution_count": null,
      "outputs": []
    },
    {
      "cell_type": "code",
      "metadata": {
        "id": "Tnn2MgklzuXA",
        "colab": {
          "base_uri": "https://localhost:8080/"
        },
        "outputId": "9aff8ff4-9dd4-44e9-df09-62f3ffcd96e6"
      },
      "source": [
        "df['installer'].value_counts()"
      ],
      "execution_count": null,
      "outputs": [
        {
          "output_type": "execute_result",
          "data": {
            "text/plain": [
              "DWE                        21751\n",
              "Government                  2282\n",
              "RWE                         1498\n",
              "Commu                       1347\n",
              "DANIDA                      1305\n",
              "                           ...  \n",
              "LEI                            1\n",
              "Kindoroko water project        1\n",
              "malola                         1\n",
              "MASWI DRILLING CO. LTD         1\n",
              "SEMA Consultant                1\n",
              "Name: installer, Length: 2410, dtype: int64"
            ]
          },
          "metadata": {},
          "execution_count": 49
        }
      ]
    },
    {
      "cell_type": "code",
      "metadata": {
        "id": "blAF5CqPzCr8"
      },
      "source": [
        "df['installer'].fillna(value='Unknown',inplace=True) "
      ],
      "execution_count": null,
      "outputs": []
    },
    {
      "cell_type": "code",
      "metadata": {
        "id": "jUl0rN94zD75"
      },
      "source": [
        "df['installer'].replace(to_replace = '0', value ='Unknown' , inplace=True)"
      ],
      "execution_count": null,
      "outputs": []
    },
    {
      "cell_type": "code",
      "metadata": {
        "id": "ht7FDGo2zKs6"
      },
      "source": [
        "# Replacing the spelling mistakes and collect same categories in same name\n",
        "\n",
        "df['installer'].replace(to_replace = ('District Water Department', 'District water depar','Distric Water Department'),\n",
        "                        value ='District water department' , inplace=True)\n",
        "\n",
        "df['installer'].replace(to_replace = ('FinW','Fini water','FINI WATER'), value ='Fini Water' , inplace=True)\n",
        "df['installer'].replace(to_replace = 'JAICA', value ='Jaica' , inplace=True)\n",
        "\n",
        "df['installer'].replace(to_replace = ('COUN', 'District COUNCIL', 'DISTRICT COUNCIL','District Counci', \n",
        "                                      'District Council','Council','Counc','District  Council','Distri'),\n",
        "                                    value ='District council' , inplace=True)\n",
        "\n",
        "df['installer'].replace(to_replace = ('RC CHURCH', 'RC Churc', 'RC','RC Ch','RC C', 'RC CH','RC church', \n",
        "                                      'RC CATHORIC',) , value ='RC Church' , inplace=True)\n",
        "\n",
        "df['installer'].replace(to_replace = ('Central Government','Tanzania Government',\n",
        "                                       'central government','Cental Government', 'Cebtral Government', \n",
        "                                      'Tanzanian Government','Tanzania government', 'Centra Government' ,\n",
        "                                      'CENTRAL GOVERNMENT', 'TANZANIAN GOVERNMENT','Central govt', 'Centr', \n",
        "                                      'Centra govt') , value ='Central government' , inplace=True)\n",
        "\n",
        "df['installer'].replace(to_replace = ('World vision', 'World Division','World Vision'),\n",
        "                                        value ='world vision' , inplace=True)\n",
        "\n",
        "df['installer'].replace(to_replace = ('Unisef','UNICEF'),value ='Unicef' , inplace=True)\n",
        "df['installer'].replace(to_replace = 'DANID', value ='DANIDA' , inplace=True)\n",
        "\n",
        "df['installer'].replace(to_replace = ('villigers', 'villager', 'Villagers', 'Villa', 'Village', 'Villi', \n",
        "                                      'Village Council','Village Counil', 'Villages', 'Vill', 'Village community', \n",
        "                                      'Villaers', 'Village Community', 'Villag','Villege Council', 'Village council',\n",
        "                                      'Village  Council','Villagerd', 'Villager', 'Village Technician',\n",
        "                                      'Village Office','Village community members'),\n",
        "                                        value ='villagers' , inplace=True)\n",
        "\n",
        "df['installer'].replace(to_replace =('Commu','Communit','commu','COMMU', 'COMMUNITY') ,\n",
        "                                        value ='Community' , inplace=True)\n",
        "\n",
        "df['installer'].replace(to_replace = ('GOVERNMENT', 'GOVER', 'GOVERNME', 'GOVERM','GOVERN','Gover','Gove',\n",
        "                                      'Governme','Governmen' ) ,value ='Government' , inplace=True)\n",
        "\n",
        "df['installer'].replace(to_replace = 'Hesawa' ,value ='HESAWA' , inplace=True)\n",
        "df['installer'].replace(to_replace = ('Colonial Government') , value ='Colonial government' , inplace=True)\n",
        "df['installer'].replace(to_replace = ('Government of Misri') , value ='Misri Government' , inplace=True)\n",
        "df['installer'].replace(to_replace = ('Italy government') , value ='Italian government' , inplace=True)\n",
        "df['installer'].replace(to_replace = ('British colonial government') , value ='British government' , inplace=True)\n",
        "df['installer'].replace(to_replace = ('Concern /government') , value ='Concern/Government' , inplace=True)\n",
        "df['installer'].replace(to_replace = ('Village Government') , value ='Village government' , inplace=True)\n",
        "df['installer'].replace(to_replace = ('Government and Community') , value ='Government /Community' , inplace=True)\n",
        "df['installer'].replace(to_replace = ('Cetral government /RC') , value ='RC church/Central Gover' , inplace=True)\n",
        "df['installer'].replace(to_replace = ('Government /TCRS','Government/TCRS') , value ='TCRS /Government' , inplace=True)\n",
        "df['installer'].replace(to_replace = ('ADRA /Government') , value ='ADRA/Government' , inplace=True)\n"
      ],
      "execution_count": null,
      "outputs": []
    },
    {
      "cell_type": "markdown",
      "metadata": {
        "id": "fLSTnsYxzbF1"
      },
      "source": [
        "As the installer columns has lots of spelling mistakes and some values are differnt because of use of uppercase leeters in different places in the word.So I replace it with unique name."
      ]
    },
    {
      "cell_type": "code",
      "metadata": {
        "id": "53nc0Nv6zomP",
        "colab": {
          "base_uri": "https://localhost:8080/"
        },
        "outputId": "15b6488c-53f0-42af-c3c2-7662d30950bc"
      },
      "source": [
        "df['installer'].value_counts().head(20)"
      ],
      "execution_count": null,
      "outputs": [
        {
          "output_type": "execute_result",
          "data": {
            "text/plain": [
              "DWE                   21751\n",
              "Unknown                5516\n",
              "Government             3337\n",
              "Community              2112\n",
              "DANIDA                 1995\n",
              "HESAWA                 1749\n",
              "RWE                    1498\n",
              "District council       1449\n",
              "Central government     1359\n",
              "KKKT                   1120\n",
              "TCRS                    887\n",
              "world vision            846\n",
              "CES                     765\n",
              "Fini Water              732\n",
              "RC Church               586\n",
              "villagers               514\n",
              "TASAF                   504\n",
              "LGA                     501\n",
              "WEDECO                  496\n",
              "Unicef                  421\n",
              "Name: installer, dtype: int64"
            ]
          },
          "metadata": {},
          "execution_count": 53
        }
      ]
    },
    {
      "cell_type": "code",
      "metadata": {
        "id": "zPe4-rzP0bLB",
        "colab": {
          "base_uri": "https://localhost:8080/",
          "height": 634
        },
        "outputId": "835f9f63-99aa-40ce-ddc5-e5617fe9dd98"
      },
      "source": [
        "df.loc[df['longitude']==0]"
      ],
      "execution_count": null,
      "outputs": [
        {
          "output_type": "execute_result",
          "data": {
            "text/html": [
              "<div>\n",
              "<style scoped>\n",
              "    .dataframe tbody tr th:only-of-type {\n",
              "        vertical-align: middle;\n",
              "    }\n",
              "\n",
              "    .dataframe tbody tr th {\n",
              "        vertical-align: top;\n",
              "    }\n",
              "\n",
              "    .dataframe thead th {\n",
              "        text-align: right;\n",
              "    }\n",
              "</style>\n",
              "<table border=\"1\" class=\"dataframe\">\n",
              "  <thead>\n",
              "    <tr style=\"text-align: right;\">\n",
              "      <th></th>\n",
              "      <th>amount_tsh</th>\n",
              "      <th>date_recorded</th>\n",
              "      <th>funder</th>\n",
              "      <th>gps_height</th>\n",
              "      <th>installer</th>\n",
              "      <th>longitude</th>\n",
              "      <th>latitude</th>\n",
              "      <th>wpt_name</th>\n",
              "      <th>num_private</th>\n",
              "      <th>basin</th>\n",
              "      <th>subvillage</th>\n",
              "      <th>region</th>\n",
              "      <th>region_code</th>\n",
              "      <th>district_code</th>\n",
              "      <th>lga</th>\n",
              "      <th>ward</th>\n",
              "      <th>population</th>\n",
              "      <th>public_meeting</th>\n",
              "      <th>scheme_name</th>\n",
              "      <th>permit</th>\n",
              "      <th>construction_year</th>\n",
              "      <th>extraction_type_group</th>\n",
              "      <th>management</th>\n",
              "      <th>payment</th>\n",
              "      <th>water_quality</th>\n",
              "      <th>quantity</th>\n",
              "      <th>source</th>\n",
              "      <th>waterpoint_type</th>\n",
              "      <th>status_group</th>\n",
              "      <th>decade</th>\n",
              "    </tr>\n",
              "  </thead>\n",
              "  <tbody>\n",
              "    <tr>\n",
              "      <th>21</th>\n",
              "      <td>0.0</td>\n",
              "      <td>2013-02-10</td>\n",
              "      <td>Dwsp</td>\n",
              "      <td>0</td>\n",
              "      <td>DWE</td>\n",
              "      <td>0.0</td>\n",
              "      <td>-2.000000e-08</td>\n",
              "      <td>Muungano</td>\n",
              "      <td>0</td>\n",
              "      <td>Lake Victoria</td>\n",
              "      <td>Ibabachegu</td>\n",
              "      <td>Shinyanga</td>\n",
              "      <td>17</td>\n",
              "      <td>1</td>\n",
              "      <td>Bariadi</td>\n",
              "      <td>Ikungulyabashashi</td>\n",
              "      <td>0</td>\n",
              "      <td>NaN</td>\n",
              "      <td>NaN</td>\n",
              "      <td>False</td>\n",
              "      <td>2000</td>\n",
              "      <td>swn 80</td>\n",
              "      <td>wug</td>\n",
              "      <td>unknown</td>\n",
              "      <td>unknown</td>\n",
              "      <td>unknown</td>\n",
              "      <td>shallow well</td>\n",
              "      <td>hand pump</td>\n",
              "      <td>non functional</td>\n",
              "      <td>0</td>\n",
              "    </tr>\n",
              "    <tr>\n",
              "      <th>53</th>\n",
              "      <td>0.0</td>\n",
              "      <td>2011-08-01</td>\n",
              "      <td>Government Of Tanzania</td>\n",
              "      <td>0</td>\n",
              "      <td>Government</td>\n",
              "      <td>0.0</td>\n",
              "      <td>-2.000000e-08</td>\n",
              "      <td>Polisi</td>\n",
              "      <td>0</td>\n",
              "      <td>Lake Victoria</td>\n",
              "      <td>Center</td>\n",
              "      <td>Mwanza</td>\n",
              "      <td>19</td>\n",
              "      <td>6</td>\n",
              "      <td>Geita</td>\n",
              "      <td>Nyang'hwale</td>\n",
              "      <td>0</td>\n",
              "      <td>True</td>\n",
              "      <td>Nyang'hwale</td>\n",
              "      <td>True</td>\n",
              "      <td>2000</td>\n",
              "      <td>submersible</td>\n",
              "      <td>vwc</td>\n",
              "      <td>unknown</td>\n",
              "      <td>unknown</td>\n",
              "      <td>dry</td>\n",
              "      <td>machine dbh</td>\n",
              "      <td>communal standpipe multiple</td>\n",
              "      <td>NaN</td>\n",
              "      <td>0</td>\n",
              "    </tr>\n",
              "    <tr>\n",
              "      <th>168</th>\n",
              "      <td>0.0</td>\n",
              "      <td>2013-01-30</td>\n",
              "      <td>Wvt</td>\n",
              "      <td>0</td>\n",
              "      <td>WVT</td>\n",
              "      <td>0.0</td>\n",
              "      <td>-2.000000e-08</td>\n",
              "      <td>Wvt Tanzania</td>\n",
              "      <td>0</td>\n",
              "      <td>Lake Victoria</td>\n",
              "      <td>Ilula</td>\n",
              "      <td>Shinyanga</td>\n",
              "      <td>17</td>\n",
              "      <td>1</td>\n",
              "      <td>Bariadi</td>\n",
              "      <td>Chinamili</td>\n",
              "      <td>0</td>\n",
              "      <td>False</td>\n",
              "      <td>NaN</td>\n",
              "      <td>False</td>\n",
              "      <td>2000</td>\n",
              "      <td>gravity</td>\n",
              "      <td>parastatal</td>\n",
              "      <td>other</td>\n",
              "      <td>soft</td>\n",
              "      <td>seasonal</td>\n",
              "      <td>rainwater harvesting</td>\n",
              "      <td>communal standpipe</td>\n",
              "      <td>functional</td>\n",
              "      <td>0</td>\n",
              "    </tr>\n",
              "    <tr>\n",
              "      <th>177</th>\n",
              "      <td>0.0</td>\n",
              "      <td>2013-01-17</td>\n",
              "      <td>Netherlands</td>\n",
              "      <td>0</td>\n",
              "      <td>DWE</td>\n",
              "      <td>0.0</td>\n",
              "      <td>-2.000000e-08</td>\n",
              "      <td>Kikundi Cha Wakina Mama</td>\n",
              "      <td>0</td>\n",
              "      <td>Lake Victoria</td>\n",
              "      <td>Mahaha</td>\n",
              "      <td>Shinyanga</td>\n",
              "      <td>17</td>\n",
              "      <td>1</td>\n",
              "      <td>Bariadi</td>\n",
              "      <td>Bunamhala</td>\n",
              "      <td>0</td>\n",
              "      <td>NaN</td>\n",
              "      <td>NaN</td>\n",
              "      <td>False</td>\n",
              "      <td>2000</td>\n",
              "      <td>other</td>\n",
              "      <td>wug</td>\n",
              "      <td>unknown</td>\n",
              "      <td>soft</td>\n",
              "      <td>enough</td>\n",
              "      <td>shallow well</td>\n",
              "      <td>other</td>\n",
              "      <td>non functional</td>\n",
              "      <td>0</td>\n",
              "    </tr>\n",
              "    <tr>\n",
              "      <th>253</th>\n",
              "      <td>0.0</td>\n",
              "      <td>2012-10-29</td>\n",
              "      <td>Hesawa</td>\n",
              "      <td>0</td>\n",
              "      <td>DWE</td>\n",
              "      <td>0.0</td>\n",
              "      <td>-2.000000e-08</td>\n",
              "      <td>Kwakisusi</td>\n",
              "      <td>0</td>\n",
              "      <td>Lake Victoria</td>\n",
              "      <td>Nyamatala</td>\n",
              "      <td>Mwanza</td>\n",
              "      <td>19</td>\n",
              "      <td>2</td>\n",
              "      <td>Magu</td>\n",
              "      <td>Malili</td>\n",
              "      <td>0</td>\n",
              "      <td>True</td>\n",
              "      <td>NaN</td>\n",
              "      <td>True</td>\n",
              "      <td>2000</td>\n",
              "      <td>nira/tanira</td>\n",
              "      <td>vwc</td>\n",
              "      <td>never pay</td>\n",
              "      <td>soft</td>\n",
              "      <td>insufficient</td>\n",
              "      <td>shallow well</td>\n",
              "      <td>hand pump</td>\n",
              "      <td>non functional</td>\n",
              "      <td>0</td>\n",
              "    </tr>\n",
              "    <tr>\n",
              "      <th>...</th>\n",
              "      <td>...</td>\n",
              "      <td>...</td>\n",
              "      <td>...</td>\n",
              "      <td>...</td>\n",
              "      <td>...</td>\n",
              "      <td>...</td>\n",
              "      <td>...</td>\n",
              "      <td>...</td>\n",
              "      <td>...</td>\n",
              "      <td>...</td>\n",
              "      <td>...</td>\n",
              "      <td>...</td>\n",
              "      <td>...</td>\n",
              "      <td>...</td>\n",
              "      <td>...</td>\n",
              "      <td>...</td>\n",
              "      <td>...</td>\n",
              "      <td>...</td>\n",
              "      <td>...</td>\n",
              "      <td>...</td>\n",
              "      <td>...</td>\n",
              "      <td>...</td>\n",
              "      <td>...</td>\n",
              "      <td>...</td>\n",
              "      <td>...</td>\n",
              "      <td>...</td>\n",
              "      <td>...</td>\n",
              "      <td>...</td>\n",
              "      <td>...</td>\n",
              "      <td>...</td>\n",
              "    </tr>\n",
              "    <tr>\n",
              "      <th>74049</th>\n",
              "      <td>0.0</td>\n",
              "      <td>2011-08-08</td>\n",
              "      <td>Nyamigogo</td>\n",
              "      <td>0</td>\n",
              "      <td>MASWI</td>\n",
              "      <td>0.0</td>\n",
              "      <td>-2.000000e-08</td>\n",
              "      <td>Husein</td>\n",
              "      <td>0</td>\n",
              "      <td>Lake Victoria</td>\n",
              "      <td>Nyaweshi</td>\n",
              "      <td>Mwanza</td>\n",
              "      <td>19</td>\n",
              "      <td>6</td>\n",
              "      <td>Geita</td>\n",
              "      <td>Kharumwa</td>\n",
              "      <td>0</td>\n",
              "      <td>True</td>\n",
              "      <td>Borehole</td>\n",
              "      <td>True</td>\n",
              "      <td>2000</td>\n",
              "      <td>india mark ii</td>\n",
              "      <td>vwc</td>\n",
              "      <td>never pay</td>\n",
              "      <td>soft</td>\n",
              "      <td>insufficient</td>\n",
              "      <td>shallow well</td>\n",
              "      <td>hand pump</td>\n",
              "      <td>NaN</td>\n",
              "      <td>0</td>\n",
              "    </tr>\n",
              "    <tr>\n",
              "      <th>74076</th>\n",
              "      <td>0.0</td>\n",
              "      <td>2013-02-16</td>\n",
              "      <td>Dwsp</td>\n",
              "      <td>0</td>\n",
              "      <td>DWE</td>\n",
              "      <td>0.0</td>\n",
              "      <td>-2.000000e-08</td>\n",
              "      <td>Imalanota</td>\n",
              "      <td>0</td>\n",
              "      <td>Lake Victoria</td>\n",
              "      <td>Busumabwi</td>\n",
              "      <td>Mwanza</td>\n",
              "      <td>17</td>\n",
              "      <td>1</td>\n",
              "      <td>Magu</td>\n",
              "      <td>Nkungulu</td>\n",
              "      <td>0</td>\n",
              "      <td>False</td>\n",
              "      <td>NaN</td>\n",
              "      <td>False</td>\n",
              "      <td>2000</td>\n",
              "      <td>swn 80</td>\n",
              "      <td>wug</td>\n",
              "      <td>other</td>\n",
              "      <td>soft</td>\n",
              "      <td>enough</td>\n",
              "      <td>shallow well</td>\n",
              "      <td>hand pump</td>\n",
              "      <td>functional</td>\n",
              "      <td>0</td>\n",
              "    </tr>\n",
              "    <tr>\n",
              "      <th>74166</th>\n",
              "      <td>0.0</td>\n",
              "      <td>2012-11-04</td>\n",
              "      <td>Government Of Tanzania</td>\n",
              "      <td>0</td>\n",
              "      <td>RWE</td>\n",
              "      <td>0.0</td>\n",
              "      <td>-2.000000e-08</td>\n",
              "      <td>Ofisini</td>\n",
              "      <td>0</td>\n",
              "      <td>Lake Victoria</td>\n",
              "      <td>Madukani</td>\n",
              "      <td>Mwanza</td>\n",
              "      <td>19</td>\n",
              "      <td>2</td>\n",
              "      <td>Magu</td>\n",
              "      <td>Mkula</td>\n",
              "      <td>0</td>\n",
              "      <td>True</td>\n",
              "      <td>Kalemela Water Supply</td>\n",
              "      <td>True</td>\n",
              "      <td>2000</td>\n",
              "      <td>gravity</td>\n",
              "      <td>vwc</td>\n",
              "      <td>never pay</td>\n",
              "      <td>soft</td>\n",
              "      <td>insufficient</td>\n",
              "      <td>lake</td>\n",
              "      <td>communal standpipe multiple</td>\n",
              "      <td>functional</td>\n",
              "      <td>0</td>\n",
              "    </tr>\n",
              "    <tr>\n",
              "      <th>74231</th>\n",
              "      <td>0.0</td>\n",
              "      <td>2012-10-26</td>\n",
              "      <td>Hesawa</td>\n",
              "      <td>0</td>\n",
              "      <td>DWE</td>\n",
              "      <td>0.0</td>\n",
              "      <td>-2.000000e-08</td>\n",
              "      <td>Kwa Masilili</td>\n",
              "      <td>0</td>\n",
              "      <td>Lake Victoria</td>\n",
              "      <td>Solima A</td>\n",
              "      <td>Mwanza</td>\n",
              "      <td>19</td>\n",
              "      <td>2</td>\n",
              "      <td>Magu</td>\n",
              "      <td>Kabita</td>\n",
              "      <td>0</td>\n",
              "      <td>True</td>\n",
              "      <td>NaN</td>\n",
              "      <td>True</td>\n",
              "      <td>2000</td>\n",
              "      <td>nira/tanira</td>\n",
              "      <td>vwc</td>\n",
              "      <td>never pay</td>\n",
              "      <td>salty</td>\n",
              "      <td>enough</td>\n",
              "      <td>shallow well</td>\n",
              "      <td>hand pump</td>\n",
              "      <td>NaN</td>\n",
              "      <td>0</td>\n",
              "    </tr>\n",
              "    <tr>\n",
              "      <th>74241</th>\n",
              "      <td>0.0</td>\n",
              "      <td>2012-10-26</td>\n",
              "      <td>Dwsp</td>\n",
              "      <td>0</td>\n",
              "      <td>DWE</td>\n",
              "      <td>0.0</td>\n",
              "      <td>-2.000000e-08</td>\n",
              "      <td>Iguna</td>\n",
              "      <td>0</td>\n",
              "      <td>Lake Victoria</td>\n",
              "      <td>Nyerere</td>\n",
              "      <td>Shinyanga</td>\n",
              "      <td>17</td>\n",
              "      <td>1</td>\n",
              "      <td>Bariadi</td>\n",
              "      <td>Kasoli</td>\n",
              "      <td>0</td>\n",
              "      <td>NaN</td>\n",
              "      <td>NaN</td>\n",
              "      <td>False</td>\n",
              "      <td>2000</td>\n",
              "      <td>swn 80</td>\n",
              "      <td>wug</td>\n",
              "      <td>unknown</td>\n",
              "      <td>soft</td>\n",
              "      <td>enough</td>\n",
              "      <td>shallow well</td>\n",
              "      <td>hand pump</td>\n",
              "      <td>NaN</td>\n",
              "      <td>0</td>\n",
              "    </tr>\n",
              "  </tbody>\n",
              "</table>\n",
              "<p>2269 rows × 30 columns</p>\n",
              "</div>"
            ],
            "text/plain": [
              "       amount_tsh date_recorded  ...    status_group  decade\n",
              "21            0.0    2013-02-10  ...  non functional       0\n",
              "53            0.0    2011-08-01  ...             NaN       0\n",
              "168           0.0    2013-01-30  ...      functional       0\n",
              "177           0.0    2013-01-17  ...  non functional       0\n",
              "253           0.0    2012-10-29  ...  non functional       0\n",
              "...           ...           ...  ...             ...     ...\n",
              "74049         0.0    2011-08-08  ...             NaN       0\n",
              "74076         0.0    2013-02-16  ...      functional       0\n",
              "74166         0.0    2012-11-04  ...      functional       0\n",
              "74231         0.0    2012-10-26  ...             NaN       0\n",
              "74241         0.0    2012-10-26  ...             NaN       0\n",
              "\n",
              "[2269 rows x 30 columns]"
            ]
          },
          "metadata": {},
          "execution_count": 54
        }
      ]
    },
    {
      "cell_type": "code",
      "metadata": {
        "id": "ovLXAvdK0fUI",
        "colab": {
          "base_uri": "https://localhost:8080/",
          "height": 294
        },
        "outputId": "758f46b9-c335-4eec-b4d1-4ba11ba19a93"
      },
      "source": [
        "df.loc[df['longitude']!=0].describe()"
      ],
      "execution_count": null,
      "outputs": [
        {
          "output_type": "execute_result",
          "data": {
            "text/html": [
              "<div>\n",
              "<style scoped>\n",
              "    .dataframe tbody tr th:only-of-type {\n",
              "        vertical-align: middle;\n",
              "    }\n",
              "\n",
              "    .dataframe tbody tr th {\n",
              "        vertical-align: top;\n",
              "    }\n",
              "\n",
              "    .dataframe thead th {\n",
              "        text-align: right;\n",
              "    }\n",
              "</style>\n",
              "<table border=\"1\" class=\"dataframe\">\n",
              "  <thead>\n",
              "    <tr style=\"text-align: right;\">\n",
              "      <th></th>\n",
              "      <th>amount_tsh</th>\n",
              "      <th>gps_height</th>\n",
              "      <th>longitude</th>\n",
              "      <th>latitude</th>\n",
              "      <th>num_private</th>\n",
              "      <th>region_code</th>\n",
              "      <th>district_code</th>\n",
              "      <th>population</th>\n",
              "      <th>construction_year</th>\n",
              "    </tr>\n",
              "  </thead>\n",
              "  <tbody>\n",
              "    <tr>\n",
              "      <th>count</th>\n",
              "      <td>71981.000000</td>\n",
              "      <td>71981.000000</td>\n",
              "      <td>71981.000000</td>\n",
              "      <td>71981.000000</td>\n",
              "      <td>71981.000000</td>\n",
              "      <td>71981.000000</td>\n",
              "      <td>71981.000000</td>\n",
              "      <td>71981.000000</td>\n",
              "      <td>71981.000000</td>\n",
              "    </tr>\n",
              "    <tr>\n",
              "      <th>mean</th>\n",
              "      <td>328.731381</td>\n",
              "      <td>686.650616</td>\n",
              "      <td>35.148358</td>\n",
              "      <td>-5.881503</td>\n",
              "      <td>0.476904</td>\n",
              "      <td>15.185091</td>\n",
              "      <td>5.728248</td>\n",
              "      <td>186.448493</td>\n",
              "      <td>1997.901196</td>\n",
              "    </tr>\n",
              "    <tr>\n",
              "      <th>std</th>\n",
              "      <td>2951.661960</td>\n",
              "      <td>693.280413</td>\n",
              "      <td>2.608924</td>\n",
              "      <td>2.808758</td>\n",
              "      <td>11.718023</td>\n",
              "      <td>17.775842</td>\n",
              "      <td>9.768536</td>\n",
              "      <td>477.341984</td>\n",
              "      <td>10.294211</td>\n",
              "    </tr>\n",
              "    <tr>\n",
              "      <th>min</th>\n",
              "      <td>0.000000</td>\n",
              "      <td>-90.000000</td>\n",
              "      <td>29.607122</td>\n",
              "      <td>-11.649440</td>\n",
              "      <td>0.000000</td>\n",
              "      <td>1.000000</td>\n",
              "      <td>0.000000</td>\n",
              "      <td>0.000000</td>\n",
              "      <td>1960.000000</td>\n",
              "    </tr>\n",
              "    <tr>\n",
              "      <th>25%</th>\n",
              "      <td>0.000000</td>\n",
              "      <td>0.000000</td>\n",
              "      <td>33.277747</td>\n",
              "      <td>-8.632576</td>\n",
              "      <td>0.000000</td>\n",
              "      <td>5.000000</td>\n",
              "      <td>2.000000</td>\n",
              "      <td>0.000000</td>\n",
              "      <td>1995.000000</td>\n",
              "    </tr>\n",
              "    <tr>\n",
              "      <th>50%</th>\n",
              "      <td>0.000000</td>\n",
              "      <td>418.000000</td>\n",
              "      <td>35.007072</td>\n",
              "      <td>-5.173950</td>\n",
              "      <td>0.000000</td>\n",
              "      <td>12.000000</td>\n",
              "      <td>3.000000</td>\n",
              "      <td>35.000000</td>\n",
              "      <td>2000.000000</td>\n",
              "    </tr>\n",
              "    <tr>\n",
              "      <th>75%</th>\n",
              "      <td>30.000000</td>\n",
              "      <td>1330.000000</td>\n",
              "      <td>37.237383</td>\n",
              "      <td>-3.371872</td>\n",
              "      <td>0.000000</td>\n",
              "      <td>17.000000</td>\n",
              "      <td>5.000000</td>\n",
              "      <td>230.000000</td>\n",
              "      <td>2005.000000</td>\n",
              "    </tr>\n",
              "    <tr>\n",
              "      <th>max</th>\n",
              "      <td>350000.000000</td>\n",
              "      <td>2777.000000</td>\n",
              "      <td>40.345193</td>\n",
              "      <td>-0.998464</td>\n",
              "      <td>1776.000000</td>\n",
              "      <td>99.000000</td>\n",
              "      <td>80.000000</td>\n",
              "      <td>30500.000000</td>\n",
              "      <td>2013.000000</td>\n",
              "    </tr>\n",
              "  </tbody>\n",
              "</table>\n",
              "</div>"
            ],
            "text/plain": [
              "          amount_tsh    gps_height  ...    population  construction_year\n",
              "count   71981.000000  71981.000000  ...  71981.000000       71981.000000\n",
              "mean      328.731381    686.650616  ...    186.448493        1997.901196\n",
              "std      2951.661960    693.280413  ...    477.341984          10.294211\n",
              "min         0.000000    -90.000000  ...      0.000000        1960.000000\n",
              "25%         0.000000      0.000000  ...      0.000000        1995.000000\n",
              "50%         0.000000    418.000000  ...     35.000000        2000.000000\n",
              "75%        30.000000   1330.000000  ...    230.000000        2005.000000\n",
              "max    350000.000000   2777.000000  ...  30500.000000        2013.000000\n",
              "\n",
              "[8 rows x 9 columns]"
            ]
          },
          "metadata": {},
          "execution_count": 55
        }
      ]
    },
    {
      "cell_type": "code",
      "metadata": {
        "id": "WJcFOsm40j6e"
      },
      "source": [
        "df['longitude'].replace(to_replace = 0 , value =35.15, inplace=True) # changing 0 values to mean"
      ],
      "execution_count": null,
      "outputs": []
    },
    {
      "cell_type": "markdown",
      "metadata": {
        "id": "itvSt1IOjqn9"
      },
      "source": [
        "Replace the zero values in the logitude column with the mean "
      ]
    },
    {
      "cell_type": "code",
      "metadata": {
        "id": "KLqSVdYL1Lb6",
        "colab": {
          "base_uri": "https://localhost:8080/"
        },
        "outputId": "5ccff993-b0ea-4368-cd33-4a299a732a99"
      },
      "source": [
        "df['wpt_name'].value_counts()"
      ],
      "execution_count": null,
      "outputs": [
        {
          "output_type": "execute_result",
          "data": {
            "text/plain": [
              "none                    4440\n",
              "Shuleni                 2183\n",
              "Zahanati                1034\n",
              "Msikitini                647\n",
              "Kanisani                 390\n",
              "                        ... \n",
              "Kwa Mjumbe Mkemi           1\n",
              "Kwa Mzee Bonanza           1\n",
              "Salage Secschool           1\n",
              "Old Traford                1\n",
              "Kwa Aloyce Mangalili       1\n",
              "Name: wpt_name, Length: 45684, dtype: int64"
            ]
          },
          "metadata": {},
          "execution_count": 57
        }
      ]
    },
    {
      "cell_type": "code",
      "metadata": {
        "id": "VH6aXmbm1MqO",
        "colab": {
          "base_uri": "https://localhost:8080/"
        },
        "outputId": "ec7c83e4-fd0a-4789-a893-f05855d1c256"
      },
      "source": [
        "df['scheme_name'].value_counts()"
      ],
      "execution_count": null,
      "outputs": [
        {
          "output_type": "execute_result",
          "data": {
            "text/plain": [
              "K                             858\n",
              "None                          794\n",
              "Borehole                      704\n",
              "Chalinze wate                 501\n",
              "M                             490\n",
              "                             ... \n",
              "Kilimb                          1\n",
              "Government Borehole Scheme      1\n",
              "Kibo sterio water supply        1\n",
              "BFFS water supplying            1\n",
              "Tanload                         1\n",
              "Name: scheme_name, Length: 2868, dtype: int64"
            ]
          },
          "metadata": {},
          "execution_count": 58
        }
      ]
    },
    {
      "cell_type": "code",
      "metadata": {
        "id": "s8EmTzlA1Prz"
      },
      "source": [
        "df.drop(columns=['wpt_name','scheme_name','region_code'],inplace=True )"
      ],
      "execution_count": null,
      "outputs": []
    },
    {
      "cell_type": "markdown",
      "metadata": {
        "id": "xsgXXo-zaFLB"
      },
      "source": [
        "Those columns have dropped due to having large unique values and null values"
      ]
    },
    {
      "cell_type": "code",
      "metadata": {
        "id": "G_zr7Z3e1cjv",
        "colab": {
          "base_uri": "https://localhost:8080/"
        },
        "outputId": "93afc8fb-4c42-4396-93dc-80285aecc490"
      },
      "source": [
        "df['region'].value_counts()"
      ],
      "execution_count": null,
      "outputs": [
        {
          "output_type": "execute_result",
          "data": {
            "text/plain": [
              "Iringa           6599\n",
              "Shinyanga        6293\n",
              "Mbeya            5758\n",
              "Kilimanjaro      5494\n",
              "Morogoro         5038\n",
              "Kagera           4174\n",
              "Arusha           4111\n",
              "Mwanza           3897\n",
              "Kigoma           3533\n",
              "Pwani            3331\n",
              "Ruvuma           3306\n",
              "Tanga            3186\n",
              "Dodoma           2779\n",
              "Singida          2536\n",
              "Tabora           2466\n",
              "Mara             2451\n",
              "Rukwa            2242\n",
              "Mtwara           2144\n",
              "Manyara          1972\n",
              "Lindi            1920\n",
              "Dar es Salaam    1020\n",
              "Name: region, dtype: int64"
            ]
          },
          "metadata": {},
          "execution_count": 60
        }
      ]
    },
    {
      "cell_type": "code",
      "metadata": {
        "id": "dqdYEmZe1ek9",
        "colab": {
          "base_uri": "https://localhost:8080/",
          "height": 661
        },
        "outputId": "c3cc12d2-e834-4776-b3d0-5dd9dcaffc72"
      },
      "source": [
        "plt.figure(figsize=(26,12))\n",
        "ax = sns.countplot(x='region', hue=\"status_group\", data=df)"
      ],
      "execution_count": null,
      "outputs": [
        {
          "output_type": "display_data",
          "data": {
            "image/png": "[encoded data removed]",
            "text/plain": [
              "<Figure size 1872x864 with 1 Axes>"
            ]
          },
          "metadata": {
            "needs_background": "light"
          }
        }
      ]
    },
    {
      "cell_type": "code",
      "metadata": {
        "id": "LXfXKX091nhl",
        "colab": {
          "base_uri": "https://localhost:8080/"
        },
        "outputId": "2eab2185-6077-480a-c0e0-795ecf1d7bb7"
      },
      "source": [
        "df['population'].value_counts()"
      ],
      "execution_count": null,
      "outputs": [
        {
          "output_type": "execute_result",
          "data": {
            "text/plain": [
              "0       26834\n",
              "1        8782\n",
              "200      2370\n",
              "150      2328\n",
              "250      2087\n",
              "        ...  \n",
              "1193        1\n",
              "593         1\n",
              "1065        1\n",
              "785         1\n",
              "895         1\n",
              "Name: population, Length: 1128, dtype: int64"
            ]
          },
          "metadata": {},
          "execution_count": 62
        }
      ]
    },
    {
      "cell_type": "code",
      "metadata": {
        "id": "M1FtGH5n1qJO",
        "colab": {
          "base_uri": "https://localhost:8080/",
          "height": 224
        },
        "outputId": "d595036f-c87f-420b-d447-124f75463a94"
      },
      "source": [
        "df.loc[df['population']==0].groupby('status_group').count()"
      ],
      "execution_count": null,
      "outputs": [
        {
          "output_type": "execute_result",
          "data": {
            "text/html": [
              "<div>\n",
              "<style scoped>\n",
              "    .dataframe tbody tr th:only-of-type {\n",
              "        vertical-align: middle;\n",
              "    }\n",
              "\n",
              "    .dataframe tbody tr th {\n",
              "        vertical-align: top;\n",
              "    }\n",
              "\n",
              "    .dataframe thead th {\n",
              "        text-align: right;\n",
              "    }\n",
              "</style>\n",
              "<table border=\"1\" class=\"dataframe\">\n",
              "  <thead>\n",
              "    <tr style=\"text-align: right;\">\n",
              "      <th></th>\n",
              "      <th>amount_tsh</th>\n",
              "      <th>date_recorded</th>\n",
              "      <th>funder</th>\n",
              "      <th>gps_height</th>\n",
              "      <th>installer</th>\n",
              "      <th>longitude</th>\n",
              "      <th>latitude</th>\n",
              "      <th>num_private</th>\n",
              "      <th>basin</th>\n",
              "      <th>subvillage</th>\n",
              "      <th>region</th>\n",
              "      <th>district_code</th>\n",
              "      <th>lga</th>\n",
              "      <th>ward</th>\n",
              "      <th>population</th>\n",
              "      <th>public_meeting</th>\n",
              "      <th>permit</th>\n",
              "      <th>construction_year</th>\n",
              "      <th>extraction_type_group</th>\n",
              "      <th>management</th>\n",
              "      <th>payment</th>\n",
              "      <th>water_quality</th>\n",
              "      <th>quantity</th>\n",
              "      <th>source</th>\n",
              "      <th>waterpoint_type</th>\n",
              "      <th>decade</th>\n",
              "    </tr>\n",
              "    <tr>\n",
              "      <th>status_group</th>\n",
              "      <th></th>\n",
              "      <th></th>\n",
              "      <th></th>\n",
              "      <th></th>\n",
              "      <th></th>\n",
              "      <th></th>\n",
              "      <th></th>\n",
              "      <th></th>\n",
              "      <th></th>\n",
              "      <th></th>\n",
              "      <th></th>\n",
              "      <th></th>\n",
              "      <th></th>\n",
              "      <th></th>\n",
              "      <th></th>\n",
              "      <th></th>\n",
              "      <th></th>\n",
              "      <th></th>\n",
              "      <th></th>\n",
              "      <th></th>\n",
              "      <th></th>\n",
              "      <th></th>\n",
              "      <th></th>\n",
              "      <th></th>\n",
              "      <th></th>\n",
              "      <th></th>\n",
              "    </tr>\n",
              "  </thead>\n",
              "  <tbody>\n",
              "    <tr>\n",
              "      <th>functional</th>\n",
              "      <td>11613</td>\n",
              "      <td>11613</td>\n",
              "      <td>10457</td>\n",
              "      <td>11613</td>\n",
              "      <td>11613</td>\n",
              "      <td>11613</td>\n",
              "      <td>11613</td>\n",
              "      <td>11613</td>\n",
              "      <td>11613</td>\n",
              "      <td>11422</td>\n",
              "      <td>11613</td>\n",
              "      <td>11613</td>\n",
              "      <td>11613</td>\n",
              "      <td>11613</td>\n",
              "      <td>11613</td>\n",
              "      <td>11104</td>\n",
              "      <td>11031</td>\n",
              "      <td>11613</td>\n",
              "      <td>11613</td>\n",
              "      <td>11613</td>\n",
              "      <td>11613</td>\n",
              "      <td>11613</td>\n",
              "      <td>11613</td>\n",
              "      <td>11613</td>\n",
              "      <td>11613</td>\n",
              "      <td>11613</td>\n",
              "    </tr>\n",
              "    <tr>\n",
              "      <th>functional needs repair</th>\n",
              "      <td>1588</td>\n",
              "      <td>1588</td>\n",
              "      <td>1424</td>\n",
              "      <td>1588</td>\n",
              "      <td>1588</td>\n",
              "      <td>1588</td>\n",
              "      <td>1588</td>\n",
              "      <td>1588</td>\n",
              "      <td>1588</td>\n",
              "      <td>1561</td>\n",
              "      <td>1588</td>\n",
              "      <td>1588</td>\n",
              "      <td>1588</td>\n",
              "      <td>1588</td>\n",
              "      <td>1588</td>\n",
              "      <td>1497</td>\n",
              "      <td>1500</td>\n",
              "      <td>1588</td>\n",
              "      <td>1588</td>\n",
              "      <td>1588</td>\n",
              "      <td>1588</td>\n",
              "      <td>1588</td>\n",
              "      <td>1588</td>\n",
              "      <td>1588</td>\n",
              "      <td>1588</td>\n",
              "      <td>1588</td>\n",
              "    </tr>\n",
              "    <tr>\n",
              "      <th>non functional</th>\n",
              "      <td>8227</td>\n",
              "      <td>8227</td>\n",
              "      <td>7419</td>\n",
              "      <td>8227</td>\n",
              "      <td>8227</td>\n",
              "      <td>8227</td>\n",
              "      <td>8227</td>\n",
              "      <td>8227</td>\n",
              "      <td>8227</td>\n",
              "      <td>8083</td>\n",
              "      <td>8227</td>\n",
              "      <td>8227</td>\n",
              "      <td>8227</td>\n",
              "      <td>8227</td>\n",
              "      <td>8227</td>\n",
              "      <td>7861</td>\n",
              "      <td>7796</td>\n",
              "      <td>8227</td>\n",
              "      <td>8227</td>\n",
              "      <td>8227</td>\n",
              "      <td>8227</td>\n",
              "      <td>8227</td>\n",
              "      <td>8227</td>\n",
              "      <td>8227</td>\n",
              "      <td>8227</td>\n",
              "      <td>8227</td>\n",
              "    </tr>\n",
              "  </tbody>\n",
              "</table>\n",
              "</div>"
            ],
            "text/plain": [
              "                         amount_tsh  date_recorded  ...  waterpoint_type  decade\n",
              "status_group                                        ...                         \n",
              "functional                    11613          11613  ...            11613   11613\n",
              "functional needs repair        1588           1588  ...             1588    1588\n",
              "non functional                 8227           8227  ...             8227    8227\n",
              "\n",
              "[3 rows x 26 columns]"
            ]
          },
          "metadata": {},
          "execution_count": 63
        }
      ]
    },
    {
      "cell_type": "code",
      "metadata": {
        "id": "HcWjOgJ-1wbV",
        "colab": {
          "base_uri": "https://localhost:8080/",
          "height": 294
        },
        "outputId": "07444339-9dce-4cda-ac9f-d469c73a90dc"
      },
      "source": [
        "df.loc[df['population']!=0].describe()"
      ],
      "execution_count": null,
      "outputs": [
        {
          "output_type": "execute_result",
          "data": {
            "text/html": [
              "<div>\n",
              "<style scoped>\n",
              "    .dataframe tbody tr th:only-of-type {\n",
              "        vertical-align: middle;\n",
              "    }\n",
              "\n",
              "    .dataframe tbody tr th {\n",
              "        vertical-align: top;\n",
              "    }\n",
              "\n",
              "    .dataframe thead th {\n",
              "        text-align: right;\n",
              "    }\n",
              "</style>\n",
              "<table border=\"1\" class=\"dataframe\">\n",
              "  <thead>\n",
              "    <tr style=\"text-align: right;\">\n",
              "      <th></th>\n",
              "      <th>amount_tsh</th>\n",
              "      <th>gps_height</th>\n",
              "      <th>longitude</th>\n",
              "      <th>latitude</th>\n",
              "      <th>num_private</th>\n",
              "      <th>district_code</th>\n",
              "      <th>population</th>\n",
              "      <th>construction_year</th>\n",
              "    </tr>\n",
              "  </thead>\n",
              "  <tbody>\n",
              "    <tr>\n",
              "      <th>count</th>\n",
              "      <td>47416.000000</td>\n",
              "      <td>47416.000000</td>\n",
              "      <td>47416.000000</td>\n",
              "      <td>47416.000000</td>\n",
              "      <td>47416.000000</td>\n",
              "      <td>47416.000000</td>\n",
              "      <td>47416.000000</td>\n",
              "      <td>47416.000000</td>\n",
              "    </tr>\n",
              "    <tr>\n",
              "      <th>mean</th>\n",
              "      <td>447.783038</td>\n",
              "      <td>967.471254</td>\n",
              "      <td>36.078646</td>\n",
              "      <td>-6.140993</td>\n",
              "      <td>0.723975</td>\n",
              "      <td>6.300405</td>\n",
              "      <td>283.042623</td>\n",
              "      <td>1996.964379</td>\n",
              "    </tr>\n",
              "    <tr>\n",
              "      <th>std</th>\n",
              "      <td>3592.900978</td>\n",
              "      <td>612.979582</td>\n",
              "      <td>2.587554</td>\n",
              "      <td>2.736761</td>\n",
              "      <td>14.431650</td>\n",
              "      <td>11.327183</td>\n",
              "      <td>564.413842</td>\n",
              "      <td>12.397505</td>\n",
              "    </tr>\n",
              "    <tr>\n",
              "      <th>min</th>\n",
              "      <td>0.000000</td>\n",
              "      <td>-90.000000</td>\n",
              "      <td>29.607122</td>\n",
              "      <td>-11.649440</td>\n",
              "      <td>0.000000</td>\n",
              "      <td>1.000000</td>\n",
              "      <td>1.000000</td>\n",
              "      <td>1960.000000</td>\n",
              "    </tr>\n",
              "    <tr>\n",
              "      <th>25%</th>\n",
              "      <td>0.000000</td>\n",
              "      <td>344.000000</td>\n",
              "      <td>34.715217</td>\n",
              "      <td>-8.383484</td>\n",
              "      <td>0.000000</td>\n",
              "      <td>2.000000</td>\n",
              "      <td>40.000000</td>\n",
              "      <td>1988.000000</td>\n",
              "    </tr>\n",
              "    <tr>\n",
              "      <th>50%</th>\n",
              "      <td>0.000000</td>\n",
              "      <td>1133.000000</td>\n",
              "      <td>36.714568</td>\n",
              "      <td>-5.765866</td>\n",
              "      <td>0.000000</td>\n",
              "      <td>3.000000</td>\n",
              "      <td>150.000000</td>\n",
              "      <td>2000.000000</td>\n",
              "    </tr>\n",
              "    <tr>\n",
              "      <th>75%</th>\n",
              "      <td>100.000000</td>\n",
              "      <td>1461.000000</td>\n",
              "      <td>37.949838</td>\n",
              "      <td>-3.600882</td>\n",
              "      <td>0.000000</td>\n",
              "      <td>5.000000</td>\n",
              "      <td>328.000000</td>\n",
              "      <td>2008.000000</td>\n",
              "    </tr>\n",
              "    <tr>\n",
              "      <th>max</th>\n",
              "      <td>350000.000000</td>\n",
              "      <td>2777.000000</td>\n",
              "      <td>40.345193</td>\n",
              "      <td>-1.042375</td>\n",
              "      <td>1776.000000</td>\n",
              "      <td>67.000000</td>\n",
              "      <td>30500.000000</td>\n",
              "      <td>2013.000000</td>\n",
              "    </tr>\n",
              "  </tbody>\n",
              "</table>\n",
              "</div>"
            ],
            "text/plain": [
              "          amount_tsh    gps_height  ...    population  construction_year\n",
              "count   47416.000000  47416.000000  ...  47416.000000       47416.000000\n",
              "mean      447.783038    967.471254  ...    283.042623        1996.964379\n",
              "std      3592.900978    612.979582  ...    564.413842          12.397505\n",
              "min         0.000000    -90.000000  ...      1.000000        1960.000000\n",
              "25%         0.000000    344.000000  ...     40.000000        1988.000000\n",
              "50%         0.000000   1133.000000  ...    150.000000        2000.000000\n",
              "75%       100.000000   1461.000000  ...    328.000000        2008.000000\n",
              "max    350000.000000   2777.000000  ...  30500.000000        2013.000000\n",
              "\n",
              "[8 rows x 8 columns]"
            ]
          },
          "metadata": {},
          "execution_count": 64
        }
      ]
    },
    {
      "cell_type": "code",
      "metadata": {
        "id": "38vj61QG1zAl"
      },
      "source": [
        "df['population'].replace(to_replace = 0 , value =281, inplace=True)"
      ],
      "execution_count": null,
      "outputs": []
    },
    {
      "cell_type": "markdown",
      "metadata": {
        "id": "N-eu7_dXpMXU"
      },
      "source": [
        "replace the missing values with mean"
      ]
    },
    {
      "cell_type": "code",
      "metadata": {
        "id": "OKkVd2IW14Mq"
      },
      "source": [
        "\n",
        "df.drop(columns=['date_recorded'],inplace=True )"
      ],
      "execution_count": null,
      "outputs": []
    },
    {
      "cell_type": "code",
      "metadata": {
        "id": "U42HEv2L1_kF",
        "colab": {
          "base_uri": "https://localhost:8080/"
        },
        "outputId": "bc08b6b2-89cd-4252-ac64-121e785322d4"
      },
      "source": [
        "\n",
        "df['subvillage'].nunique()"
      ],
      "execution_count": null,
      "outputs": [
        {
          "output_type": "execute_result",
          "data": {
            "text/plain": [
              "21425"
            ]
          },
          "metadata": {},
          "execution_count": 67
        }
      ]
    },
    {
      "cell_type": "markdown",
      "metadata": {
        "id": "h5gPOpDh2Bwv"
      },
      "source": [
        "This column has location value of water point regions but df already have region column, will drop this, because it is hard to handle this nunique object values."
      ]
    },
    {
      "cell_type": "code",
      "metadata": {
        "id": "VUrSBFpg2CfP"
      },
      "source": [
        "\n",
        "df.drop(columns=['subvillage'],inplace=True )"
      ],
      "execution_count": null,
      "outputs": []
    },
    {
      "cell_type": "code",
      "metadata": {
        "id": "hfHmAICf2LOG",
        "colab": {
          "base_uri": "https://localhost:8080/"
        },
        "outputId": "491aa6aa-42c4-40f3-fea4-0c737b6d9616"
      },
      "source": [
        "df['public_meeting'].value_counts()"
      ],
      "execution_count": null,
      "outputs": [
        {
          "output_type": "execute_result",
          "data": {
            "text/plain": [
              "True     63749\n",
              "False     6346\n",
              "Name: public_meeting, dtype: int64"
            ]
          },
          "metadata": {},
          "execution_count": 69
        }
      ]
    },
    {
      "cell_type": "code",
      "metadata": {
        "id": "TGymG5y22M8A"
      },
      "source": [
        "df['public_meeting'].fillna(value=True,inplace=True)"
      ],
      "execution_count": null,
      "outputs": []
    },
    {
      "cell_type": "code",
      "metadata": {
        "id": "d-JWErfQ2PiA",
        "colab": {
          "base_uri": "https://localhost:8080/"
        },
        "outputId": "45bf0e71-48c4-402b-967f-97a290cd21ec"
      },
      "source": [
        "df['permit'].value_counts()"
      ],
      "execution_count": null,
      "outputs": [
        {
          "output_type": "execute_result",
          "data": {
            "text/plain": [
              "True     48606\n",
              "False    21851\n",
              "Name: permit, dtype: int64"
            ]
          },
          "metadata": {},
          "execution_count": 71
        }
      ]
    },
    {
      "cell_type": "code",
      "metadata": {
        "id": "q-Tc46Ku2RNO"
      },
      "source": [
        "df['permit'].fillna(value=True, inplace=True)"
      ],
      "execution_count": null,
      "outputs": []
    },
    {
      "cell_type": "code",
      "metadata": {
        "id": "L0XxUosp2iTl",
        "colab": {
          "base_uri": "https://localhost:8080/"
        },
        "outputId": "1246ac9e-d2ac-4d65-e7a5-a7da12558070"
      },
      "source": [
        "df.info()"
      ],
      "execution_count": null,
      "outputs": [
        {
          "output_type": "stream",
          "name": "stdout",
          "text": [
            "<class 'pandas.core.frame.DataFrame'>\n",
            "RangeIndex: 74250 entries, 0 to 74249\n",
            "Data columns (total 25 columns):\n",
            " #   Column                 Non-Null Count  Dtype  \n",
            "---  ------                 --------------  -----  \n",
            " 0   amount_tsh             74250 non-null  float64\n",
            " 1   funder                 69746 non-null  object \n",
            " 2   gps_height             74250 non-null  int64  \n",
            " 3   installer              74250 non-null  object \n",
            " 4   longitude              74250 non-null  float64\n",
            " 5   latitude               74250 non-null  float64\n",
            " 6   num_private            74250 non-null  int64  \n",
            " 7   basin                  74250 non-null  object \n",
            " 8   region                 74250 non-null  object \n",
            " 9   district_code          74250 non-null  int64  \n",
            " 10  lga                    74250 non-null  object \n",
            " 11  ward                   74250 non-null  object \n",
            " 12  population             74250 non-null  int64  \n",
            " 13  public_meeting         74250 non-null  bool   \n",
            " 14  permit                 74250 non-null  bool   \n",
            " 15  construction_year      74250 non-null  int64  \n",
            " 16  extraction_type_group  74250 non-null  object \n",
            " 17  management             74250 non-null  object \n",
            " 18  payment                74250 non-null  object \n",
            " 19  water_quality          74250 non-null  object \n",
            " 20  quantity               74250 non-null  object \n",
            " 21  source                 74250 non-null  object \n",
            " 22  waterpoint_type        74250 non-null  object \n",
            " 23  status_group           59400 non-null  object \n",
            " 24  decade                 74250 non-null  object \n",
            "dtypes: bool(2), float64(3), int64(5), object(15)\n",
            "memory usage: 13.2+ MB\n"
          ]
        }
      ]
    },
    {
      "cell_type": "code",
      "metadata": {
        "id": "81xnNKqw2pUt"
      },
      "source": [
        "df['funder'] = pd.factorize(df['funder'])[0]\n",
        "df['installer'] = pd.factorize(df['installer'])[0]\n",
        "df['decade'] = pd.factorize(df['decade'])[0]\n",
        "df['basin'] = pd.factorize(df['basin'])[0]\n",
        "df['region'] = pd.factorize(df['region'])[0]\n",
        "df['lga'] = pd.factorize(df['lga'])[0]\n",
        "df['ward'] = pd.factorize(df['ward'])[0]\n",
        "df['extraction_type_group'] = pd.factorize(df['extraction_type_group'])[0]\n",
        "df['management'] = pd.factorize(df['management'])[0]\n",
        "df['payment'] = pd.factorize(df['payment'])[0]\n",
        "df['water_quality'] = pd.factorize(df['water_quality'])[0]\n",
        "df['quantity'] = pd.factorize(df['quantity'])[0]\n",
        "df['source'] = pd.factorize(df['source'])[0]\n",
        "df['waterpoint_type'] = pd.factorize(df['waterpoint_type'])[0]\n",
        "\n",
        "# df['funder'] = df['funder'].astype(\"category\")\n",
        "# df = pd.get_dummies(df, columns= ['funder'], prefix='f')\n",
        "# df['installer'] = df['installer'].astype(\"category\")\n",
        "# df = pd.get_dummies(df, columns= ['installer'], prefix='i')\n",
        "# df['decade'] = df['decade'].astype(\"category\")\n",
        "# df = pd.get_dummies(df, columns= ['decade'], prefix='d')\n",
        "# df['basin'] = df['basin'].astype(\"category\")\n",
        "# df = pd.get_dummies(df, columns= ['basin'], prefix='b')\n",
        "# df['region'] = df['region'].astype(\"category\")\n",
        "# df = pd.get_dummies(df, columns= ['region'], prefix='r')\n",
        "# df['lga'] = df['lga'].astype(\"category\")\n",
        "# df = pd.get_dummies(df, columns= ['lga'], prefix='c')\n",
        "# df['ward'] = df['ward'].astype(\"category\")\n",
        "# df = pd.get_dummies(df, columns= ['ward'], prefix='w')\n",
        "# df['extraction_type_group'] = df['extraction_type_group'].astype(\"category\")\n",
        "# df = pd.get_dummies(df, columns= ['extraction_type_group'], prefix='e')\n",
        "# df['management'] = df['management'].astype(\"category\")\n",
        "# df = pd.get_dummies(df, columns= ['management'], prefix='m')\n",
        "# df['payment'] = df['payment'].astype(\"category\")\n",
        "# df = pd.get_dummies(df, columns= ['payment'], prefix='p')\n",
        "# df['water_quality'] = df['water_quality'].astype(\"category\")\n",
        "# df = pd.get_dummies(df, columns= ['water_quality'], prefix='wq')\n",
        "# df['quantity'] = df['quantity'].astype(\"category\")\n",
        "# df = pd.get_dummies(df, columns= ['quantity'], prefix='q')\n",
        "# df['source'] = df['source'].astype(\"category\")\n",
        "# df = pd.get_dummies(df, columns= ['source'], prefix='s')\n",
        "# df['waterpoint_type'] = df['waterpoint_type'].astype(\"category\")\n",
        "# df = pd.get_dummies(df, columns= ['waterpoint_type'], prefix='wt')\n",
        "\n",
        "\n"
      ],
      "execution_count": null,
      "outputs": []
    },
    {
      "cell_type": "markdown",
      "metadata": {
        "id": "myG2JkjgpfXe"
      },
      "source": [
        "Done label encoding"
      ]
    },
    {
      "cell_type": "code",
      "metadata": {
        "id": "q4Nn2Dxk3tcx",
        "colab": {
          "base_uri": "https://localhost:8080/"
        },
        "outputId": "c6468941-e686-49c8-e50a-6924aeddd1c1"
      },
      "source": [
        "df.info()"
      ],
      "execution_count": null,
      "outputs": [
        {
          "output_type": "stream",
          "name": "stdout",
          "text": [
            "<class 'pandas.core.frame.DataFrame'>\n",
            "RangeIndex: 74250 entries, 0 to 74249\n",
            "Data columns (total 25 columns):\n",
            " #   Column                 Non-Null Count  Dtype  \n",
            "---  ------                 --------------  -----  \n",
            " 0   amount_tsh             74250 non-null  float64\n",
            " 1   funder                 74250 non-null  int64  \n",
            " 2   gps_height             74250 non-null  int64  \n",
            " 3   installer              74250 non-null  int64  \n",
            " 4   longitude              74250 non-null  float64\n",
            " 5   latitude               74250 non-null  float64\n",
            " 6   num_private            74250 non-null  int64  \n",
            " 7   basin                  74250 non-null  int64  \n",
            " 8   region                 74250 non-null  int64  \n",
            " 9   district_code          74250 non-null  int64  \n",
            " 10  lga                    74250 non-null  int64  \n",
            " 11  ward                   74250 non-null  int64  \n",
            " 12  population             74250 non-null  int64  \n",
            " 13  public_meeting         74250 non-null  bool   \n",
            " 14  permit                 74250 non-null  bool   \n",
            " 15  construction_year      74250 non-null  int64  \n",
            " 16  extraction_type_group  74250 non-null  int64  \n",
            " 17  management             74250 non-null  int64  \n",
            " 18  payment                74250 non-null  int64  \n",
            " 19  water_quality          74250 non-null  int64  \n",
            " 20  quantity               74250 non-null  int64  \n",
            " 21  source                 74250 non-null  int64  \n",
            " 22  waterpoint_type        74250 non-null  int64  \n",
            " 23  status_group           59400 non-null  object \n",
            " 24  decade                 74250 non-null  int64  \n",
            "dtypes: bool(2), float64(3), int64(19), object(1)\n",
            "memory usage: 13.2+ MB\n"
          ]
        }
      ]
    },
    {
      "cell_type": "code",
      "metadata": {
        "id": "TlwcA5CO305s"
      },
      "source": [
        "df.drop(columns=['status_group'],inplace=True )\n",
        "X_train = df[:train_len]\n",
        "test = df[train_len:]"
      ],
      "execution_count": null,
      "outputs": []
    },
    {
      "cell_type": "code",
      "metadata": {
        "id": "oGELfCSK35me",
        "colab": {
          "base_uri": "https://localhost:8080/",
          "height": 222
        },
        "outputId": "092f614f-c0c2-47df-f00c-eb8ef96f520f"
      },
      "source": [
        "X_train.head()"
      ],
      "execution_count": null,
      "outputs": [
        {
          "output_type": "execute_result",
          "data": {
            "text/html": [
              "<div>\n",
              "<style scoped>\n",
              "    .dataframe tbody tr th:only-of-type {\n",
              "        vertical-align: middle;\n",
              "    }\n",
              "\n",
              "    .dataframe tbody tr th {\n",
              "        vertical-align: top;\n",
              "    }\n",
              "\n",
              "    .dataframe thead th {\n",
              "        text-align: right;\n",
              "    }\n",
              "</style>\n",
              "<table border=\"1\" class=\"dataframe\">\n",
              "  <thead>\n",
              "    <tr style=\"text-align: right;\">\n",
              "      <th></th>\n",
              "      <th>amount_tsh</th>\n",
              "      <th>funder</th>\n",
              "      <th>gps_height</th>\n",
              "      <th>installer</th>\n",
              "      <th>longitude</th>\n",
              "      <th>latitude</th>\n",
              "      <th>num_private</th>\n",
              "      <th>basin</th>\n",
              "      <th>region</th>\n",
              "      <th>district_code</th>\n",
              "      <th>lga</th>\n",
              "      <th>ward</th>\n",
              "      <th>population</th>\n",
              "      <th>public_meeting</th>\n",
              "      <th>permit</th>\n",
              "      <th>construction_year</th>\n",
              "      <th>extraction_type_group</th>\n",
              "      <th>management</th>\n",
              "      <th>payment</th>\n",
              "      <th>water_quality</th>\n",
              "      <th>quantity</th>\n",
              "      <th>source</th>\n",
              "      <th>waterpoint_type</th>\n",
              "      <th>decade</th>\n",
              "    </tr>\n",
              "  </thead>\n",
              "  <tbody>\n",
              "    <tr>\n",
              "      <th>0</th>\n",
              "      <td>6000.0</td>\n",
              "      <td>0</td>\n",
              "      <td>1390</td>\n",
              "      <td>0</td>\n",
              "      <td>34.938093</td>\n",
              "      <td>-9.856322</td>\n",
              "      <td>0</td>\n",
              "      <td>0</td>\n",
              "      <td>0</td>\n",
              "      <td>5</td>\n",
              "      <td>0</td>\n",
              "      <td>0</td>\n",
              "      <td>109</td>\n",
              "      <td>True</td>\n",
              "      <td>False</td>\n",
              "      <td>1999</td>\n",
              "      <td>0</td>\n",
              "      <td>0</td>\n",
              "      <td>0</td>\n",
              "      <td>0</td>\n",
              "      <td>0</td>\n",
              "      <td>0</td>\n",
              "      <td>0</td>\n",
              "      <td>0</td>\n",
              "    </tr>\n",
              "    <tr>\n",
              "      <th>1</th>\n",
              "      <td>0.0</td>\n",
              "      <td>1</td>\n",
              "      <td>1399</td>\n",
              "      <td>1</td>\n",
              "      <td>34.698766</td>\n",
              "      <td>-2.147466</td>\n",
              "      <td>0</td>\n",
              "      <td>1</td>\n",
              "      <td>1</td>\n",
              "      <td>2</td>\n",
              "      <td>1</td>\n",
              "      <td>1</td>\n",
              "      <td>280</td>\n",
              "      <td>True</td>\n",
              "      <td>True</td>\n",
              "      <td>2010</td>\n",
              "      <td>0</td>\n",
              "      <td>1</td>\n",
              "      <td>1</td>\n",
              "      <td>0</td>\n",
              "      <td>1</td>\n",
              "      <td>1</td>\n",
              "      <td>0</td>\n",
              "      <td>1</td>\n",
              "    </tr>\n",
              "    <tr>\n",
              "      <th>2</th>\n",
              "      <td>25.0</td>\n",
              "      <td>2</td>\n",
              "      <td>686</td>\n",
              "      <td>2</td>\n",
              "      <td>37.460664</td>\n",
              "      <td>-3.821329</td>\n",
              "      <td>0</td>\n",
              "      <td>2</td>\n",
              "      <td>2</td>\n",
              "      <td>4</td>\n",
              "      <td>2</td>\n",
              "      <td>2</td>\n",
              "      <td>250</td>\n",
              "      <td>True</td>\n",
              "      <td>True</td>\n",
              "      <td>2009</td>\n",
              "      <td>0</td>\n",
              "      <td>0</td>\n",
              "      <td>2</td>\n",
              "      <td>0</td>\n",
              "      <td>0</td>\n",
              "      <td>2</td>\n",
              "      <td>1</td>\n",
              "      <td>2</td>\n",
              "    </tr>\n",
              "    <tr>\n",
              "      <th>3</th>\n",
              "      <td>0.0</td>\n",
              "      <td>3</td>\n",
              "      <td>263</td>\n",
              "      <td>3</td>\n",
              "      <td>38.486161</td>\n",
              "      <td>-11.155298</td>\n",
              "      <td>0</td>\n",
              "      <td>3</td>\n",
              "      <td>3</td>\n",
              "      <td>63</td>\n",
              "      <td>3</td>\n",
              "      <td>3</td>\n",
              "      <td>58</td>\n",
              "      <td>True</td>\n",
              "      <td>True</td>\n",
              "      <td>1986</td>\n",
              "      <td>1</td>\n",
              "      <td>0</td>\n",
              "      <td>1</td>\n",
              "      <td>0</td>\n",
              "      <td>2</td>\n",
              "      <td>3</td>\n",
              "      <td>1</td>\n",
              "      <td>3</td>\n",
              "    </tr>\n",
              "    <tr>\n",
              "      <th>4</th>\n",
              "      <td>0.0</td>\n",
              "      <td>4</td>\n",
              "      <td>0</td>\n",
              "      <td>4</td>\n",
              "      <td>31.130847</td>\n",
              "      <td>-1.825359</td>\n",
              "      <td>0</td>\n",
              "      <td>1</td>\n",
              "      <td>4</td>\n",
              "      <td>1</td>\n",
              "      <td>4</td>\n",
              "      <td>4</td>\n",
              "      <td>281</td>\n",
              "      <td>True</td>\n",
              "      <td>True</td>\n",
              "      <td>2000</td>\n",
              "      <td>0</td>\n",
              "      <td>2</td>\n",
              "      <td>1</td>\n",
              "      <td>0</td>\n",
              "      <td>3</td>\n",
              "      <td>1</td>\n",
              "      <td>0</td>\n",
              "      <td>4</td>\n",
              "    </tr>\n",
              "  </tbody>\n",
              "</table>\n",
              "</div>"
            ],
            "text/plain": [
              "   amount_tsh  funder  gps_height  ...  source  waterpoint_type  decade\n",
              "0      6000.0       0        1390  ...       0                0       0\n",
              "1         0.0       1        1399  ...       1                0       1\n",
              "2        25.0       2         686  ...       2                1       2\n",
              "3         0.0       3         263  ...       3                1       3\n",
              "4         0.0       4           0  ...       1                0       4\n",
              "\n",
              "[5 rows x 24 columns]"
            ]
          },
          "metadata": {},
          "execution_count": 77
        }
      ]
    },
    {
      "cell_type": "code",
      "metadata": {
        "id": "G6mekco34-Xv"
      },
      "source": [
        "#fill missing values with mean\n",
        "X_train= X_train.fillna(X_train.mean())\n",
        "test= test.fillna(X_train.mean())"
      ],
      "execution_count": null,
      "outputs": []
    },
    {
      "cell_type": "code",
      "metadata": {
        "id": "Bvc-ZXBF6D8l",
        "colab": {
          "base_uri": "https://localhost:8080/"
        },
        "outputId": "9a158233-fb49-495a-fcd9-a070a3066701"
      },
      "source": [
        "df.shape"
      ],
      "execution_count": null,
      "outputs": [
        {
          "output_type": "execute_result",
          "data": {
            "text/plain": [
              "(74250, 24)"
            ]
          },
          "metadata": {},
          "execution_count": 79
        }
      ]
    },
    {
      "cell_type": "code",
      "metadata": {
        "id": "QGzGRIX75y_U",
        "colab": {
          "base_uri": "https://localhost:8080/"
        },
        "outputId": "9e821622-0fa0-40e5-f9ca-8b5e9a915ade"
      },
      "source": [
        "X_train.shape"
      ],
      "execution_count": null,
      "outputs": [
        {
          "output_type": "execute_result",
          "data": {
            "text/plain": [
              "(59400, 24)"
            ]
          },
          "metadata": {},
          "execution_count": 80
        }
      ]
    },
    {
      "cell_type": "code",
      "metadata": {
        "id": "YAGBf4ER52Ot",
        "colab": {
          "base_uri": "https://localhost:8080/"
        },
        "outputId": "7930ce8f-7470-41f8-d489-e28282e951be"
      },
      "source": [
        "test.shape"
      ],
      "execution_count": null,
      "outputs": [
        {
          "output_type": "execute_result",
          "data": {
            "text/plain": [
              "(14850, 24)"
            ]
          },
          "metadata": {},
          "execution_count": 81
        }
      ]
    },
    {
      "cell_type": "code",
      "metadata": {
        "id": "dheHOP3P5BLU"
      },
      "source": [
        "scaler = StandardScaler()\n",
        "X_train = scaler.fit_transform(X_train)\n",
        "test = scaler.transform(test)"
      ],
      "execution_count": null,
      "outputs": []
    },
    {
      "cell_type": "markdown",
      "metadata": {
        "id": "j6HLxPRorlB3"
      },
      "source": [
        "Standardize features by removing the mean and scaling to unit variance"
      ]
    },
    {
      "cell_type": "code",
      "metadata": {
        "id": "TPNV8TOw5OSX"
      },
      "source": [
        "y_train = labels_df['status_group']"
      ],
      "execution_count": null,
      "outputs": []
    },
    {
      "cell_type": "markdown",
      "metadata": {
        "id": "drc9o-1nrms7"
      },
      "source": [
        "# Model Training"
      ]
    },
    {
      "cell_type": "code",
      "metadata": {
        "id": "AdG3qgkc5QJV"
      },
      "source": [
        "kfold = StratifiedKFold(n_splits=10)"
      ],
      "execution_count": null,
      "outputs": []
    },
    {
      "cell_type": "code",
      "metadata": {
        "colab": {
          "base_uri": "https://localhost:8080/",
          "height": 423
        },
        "id": "hQWi26dC5YfK",
        "outputId": "dcbe3e56-48ff-46ad-e1ff-2234e901ff8a"
      },
      "source": [
        "XGBC = XGBClassifier()\n",
        "xgbc_param_grid = {\n",
        "   \"learning_rate\"    : [0.05, 0.1, 0.3] , #[0.1] #[0.3]\n",
        "   \"max_depth\"        : [3, 5, 8],  #[5] #[3]\n",
        "    \"n_estimators\"  : [100, 150, 200], #[100] #[150]\n",
        "  #\"min_child_weight\" : [ 1],   #[] #[1]\n",
        "   \"gamma\"            : [ 0.0, 0.1, 0.2], #[0.2] #[0.2]\n",
        "  #\"colsample_bytree\" : [1.0 ]   #[] #[1]\n",
        "    }\n",
        "\n",
        "\n",
        "gsXGBC = GridSearchCV(XGBC,param_grid =xgbc_param_grid, cv=kfold, scoring=\"accuracy\", n_jobs= 4, verbose = 1)\n",
        "\n",
        "gsXGBC.fit(X_train,y_train)\n",
        "\n",
        "XGBC_best = gsXGBC.best_estimator_\n",
        "\n",
        "# Best score\n",
        "gsXGBC.best_score_"
      ],
      "execution_count": null,
      "outputs": [
        {
          "output_type": "stream",
          "name": "stdout",
          "text": [
            "Fitting 5 folds for each of 81 candidates, totalling 405 fits\n"
          ]
        },
        {
          "output_type": "stream",
          "name": "stderr",
          "text": [
            "[Parallel(n_jobs=4)]: Using backend LokyBackend with 4 concurrent workers.\n"
          ]
        },
        {
          "output_type": "error",
          "ename": "KeyboardInterrupt",
          "evalue": "ignored",
          "traceback": [
            "\u001b[0;31m---------------------------------------------------------------------------\u001b[0m",
            "\u001b[0;31mKeyboardInterrupt\u001b[0m                         Traceback (most recent call last)",
            "\u001b[0;32m<ipython-input-85-da483e044440>\u001b[0m in \u001b[0;36m<module>\u001b[0;34m()\u001b[0m\n\u001b[1;32m     12\u001b[0m \u001b[0mgsXGBC\u001b[0m \u001b[0;34m=\u001b[0m \u001b[0mGridSearchCV\u001b[0m\u001b[0;34m(\u001b[0m\u001b[0mXGBC\u001b[0m\u001b[0;34m,\u001b[0m\u001b[0mparam_grid\u001b[0m \u001b[0;34m=\u001b[0m\u001b[0mxgbc_param_grid\u001b[0m\u001b[0;34m,\u001b[0m \u001b[0mcv\u001b[0m\u001b[0;34m=\u001b[0m\u001b[0mkfold\u001b[0m\u001b[0;34m,\u001b[0m \u001b[0mscoring\u001b[0m\u001b[0;34m=\u001b[0m\u001b[0;34m\"accuracy\"\u001b[0m\u001b[0;34m,\u001b[0m \u001b[0mn_jobs\u001b[0m\u001b[0;34m=\u001b[0m \u001b[0;36m4\u001b[0m\u001b[0;34m,\u001b[0m \u001b[0mverbose\u001b[0m \u001b[0;34m=\u001b[0m \u001b[0;36m1\u001b[0m\u001b[0;34m)\u001b[0m\u001b[0;34m\u001b[0m\u001b[0;34m\u001b[0m\u001b[0m\n\u001b[1;32m     13\u001b[0m \u001b[0;34m\u001b[0m\u001b[0m\n\u001b[0;32m---> 14\u001b[0;31m \u001b[0mgsXGBC\u001b[0m\u001b[0;34m.\u001b[0m\u001b[0mfit\u001b[0m\u001b[0;34m(\u001b[0m\u001b[0mX_train\u001b[0m\u001b[0;34m,\u001b[0m\u001b[0my_train\u001b[0m\u001b[0;34m)\u001b[0m\u001b[0;34m\u001b[0m\u001b[0;34m\u001b[0m\u001b[0m\n\u001b[0m\u001b[1;32m     15\u001b[0m \u001b[0;34m\u001b[0m\u001b[0m\n\u001b[1;32m     16\u001b[0m \u001b[0mXGBC_best\u001b[0m \u001b[0;34m=\u001b[0m \u001b[0mgsXGBC\u001b[0m\u001b[0;34m.\u001b[0m\u001b[0mbest_estimator_\u001b[0m\u001b[0;34m\u001b[0m\u001b[0;34m\u001b[0m\u001b[0m\n",
            "\u001b[0;32m/usr/local/lib/python3.7/dist-packages/sklearn/model_selection/_search.py\u001b[0m in \u001b[0;36mfit\u001b[0;34m(self, X, y, groups, **fit_params)\u001b[0m\n\u001b[1;32m    708\u001b[0m                 \u001b[0;32mreturn\u001b[0m \u001b[0mresults\u001b[0m\u001b[0;34m\u001b[0m\u001b[0;34m\u001b[0m\u001b[0m\n\u001b[1;32m    709\u001b[0m \u001b[0;34m\u001b[0m\u001b[0m\n\u001b[0;32m--> 710\u001b[0;31m             \u001b[0mself\u001b[0m\u001b[0;34m.\u001b[0m\u001b[0m_run_search\u001b[0m\u001b[0;34m(\u001b[0m\u001b[0mevaluate_candidates\u001b[0m\u001b[0;34m)\u001b[0m\u001b[0;34m\u001b[0m\u001b[0;34m\u001b[0m\u001b[0m\n\u001b[0m\u001b[1;32m    711\u001b[0m \u001b[0;34m\u001b[0m\u001b[0m\n\u001b[1;32m    712\u001b[0m         \u001b[0;31m# For multi-metric evaluation, store the best_index_, best_params_ and\u001b[0m\u001b[0;34m\u001b[0m\u001b[0;34m\u001b[0m\u001b[0;34m\u001b[0m\u001b[0m\n",
            "\u001b[0;32m/usr/local/lib/python3.7/dist-packages/sklearn/model_selection/_search.py\u001b[0m in \u001b[0;36m_run_search\u001b[0;34m(self, evaluate_candidates)\u001b[0m\n\u001b[1;32m   1149\u001b[0m     \u001b[0;32mdef\u001b[0m \u001b[0m_run_search\u001b[0m\u001b[0;34m(\u001b[0m\u001b[0mself\u001b[0m\u001b[0;34m,\u001b[0m \u001b[0mevaluate_candidates\u001b[0m\u001b[0;34m)\u001b[0m\u001b[0;34m:\u001b[0m\u001b[0;34m\u001b[0m\u001b[0;34m\u001b[0m\u001b[0m\n\u001b[1;32m   1150\u001b[0m         \u001b[0;34m\"\"\"Search all candidates in param_grid\"\"\"\u001b[0m\u001b[0;34m\u001b[0m\u001b[0;34m\u001b[0m\u001b[0m\n\u001b[0;32m-> 1151\u001b[0;31m         \u001b[0mevaluate_candidates\u001b[0m\u001b[0;34m(\u001b[0m\u001b[0mParameterGrid\u001b[0m\u001b[0;34m(\u001b[0m\u001b[0mself\u001b[0m\u001b[0;34m.\u001b[0m\u001b[0mparam_grid\u001b[0m\u001b[0;34m)\u001b[0m\u001b[0;34m)\u001b[0m\u001b[0;34m\u001b[0m\u001b[0;34m\u001b[0m\u001b[0m\n\u001b[0m\u001b[1;32m   1152\u001b[0m \u001b[0;34m\u001b[0m\u001b[0m\n\u001b[1;32m   1153\u001b[0m \u001b[0;34m\u001b[0m\u001b[0m\n",
            "\u001b[0;32m/usr/local/lib/python3.7/dist-packages/sklearn/model_selection/_search.py\u001b[0m in \u001b[0;36mevaluate_candidates\u001b[0;34m(candidate_params)\u001b[0m\n\u001b[1;32m    687\u001b[0m                                \u001b[0;32mfor\u001b[0m \u001b[0mparameters\u001b[0m\u001b[0;34m,\u001b[0m \u001b[0;34m(\u001b[0m\u001b[0mtrain\u001b[0m\u001b[0;34m,\u001b[0m \u001b[0mtest\u001b[0m\u001b[0;34m)\u001b[0m\u001b[0;34m\u001b[0m\u001b[0;34m\u001b[0m\u001b[0m\n\u001b[1;32m    688\u001b[0m                                in product(candidate_params,\n\u001b[0;32m--> 689\u001b[0;31m                                           cv.split(X, y, groups)))\n\u001b[0m\u001b[1;32m    690\u001b[0m \u001b[0;34m\u001b[0m\u001b[0m\n\u001b[1;32m    691\u001b[0m                 \u001b[0;32mif\u001b[0m \u001b[0mlen\u001b[0m\u001b[0;34m(\u001b[0m\u001b[0mout\u001b[0m\u001b[0;34m)\u001b[0m \u001b[0;34m<\u001b[0m \u001b[0;36m1\u001b[0m\u001b[0;34m:\u001b[0m\u001b[0;34m\u001b[0m\u001b[0;34m\u001b[0m\u001b[0m\n",
            "\u001b[0;32m/usr/local/lib/python3.7/dist-packages/joblib/parallel.py\u001b[0m in \u001b[0;36m__call__\u001b[0;34m(self, iterable)\u001b[0m\n\u001b[1;32m   1052\u001b[0m \u001b[0;34m\u001b[0m\u001b[0m\n\u001b[1;32m   1053\u001b[0m             \u001b[0;32mwith\u001b[0m \u001b[0mself\u001b[0m\u001b[0;34m.\u001b[0m\u001b[0m_backend\u001b[0m\u001b[0;34m.\u001b[0m\u001b[0mretrieval_context\u001b[0m\u001b[0;34m(\u001b[0m\u001b[0;34m)\u001b[0m\u001b[0;34m:\u001b[0m\u001b[0;34m\u001b[0m\u001b[0;34m\u001b[0m\u001b[0m\n\u001b[0;32m-> 1054\u001b[0;31m                 \u001b[0mself\u001b[0m\u001b[0;34m.\u001b[0m\u001b[0mretrieve\u001b[0m\u001b[0;34m(\u001b[0m\u001b[0;34m)\u001b[0m\u001b[0;34m\u001b[0m\u001b[0;34m\u001b[0m\u001b[0m\n\u001b[0m\u001b[1;32m   1055\u001b[0m             \u001b[0;31m# Make sure that we get a last message telling us we are done\u001b[0m\u001b[0;34m\u001b[0m\u001b[0;34m\u001b[0m\u001b[0;34m\u001b[0m\u001b[0m\n\u001b[1;32m   1056\u001b[0m             \u001b[0melapsed_time\u001b[0m \u001b[0;34m=\u001b[0m \u001b[0mtime\u001b[0m\u001b[0;34m.\u001b[0m\u001b[0mtime\u001b[0m\u001b[0;34m(\u001b[0m\u001b[0;34m)\u001b[0m \u001b[0;34m-\u001b[0m \u001b[0mself\u001b[0m\u001b[0;34m.\u001b[0m\u001b[0m_start_time\u001b[0m\u001b[0;34m\u001b[0m\u001b[0;34m\u001b[0m\u001b[0m\n",
            "\u001b[0;32m/usr/local/lib/python3.7/dist-packages/joblib/parallel.py\u001b[0m in \u001b[0;36mretrieve\u001b[0;34m(self)\u001b[0m\n\u001b[1;32m    931\u001b[0m             \u001b[0;32mtry\u001b[0m\u001b[0;34m:\u001b[0m\u001b[0;34m\u001b[0m\u001b[0;34m\u001b[0m\u001b[0m\n\u001b[1;32m    932\u001b[0m                 \u001b[0;32mif\u001b[0m \u001b[0mgetattr\u001b[0m\u001b[0;34m(\u001b[0m\u001b[0mself\u001b[0m\u001b[0;34m.\u001b[0m\u001b[0m_backend\u001b[0m\u001b[0;34m,\u001b[0m \u001b[0;34m'supports_timeout'\u001b[0m\u001b[0;34m,\u001b[0m \u001b[0;32mFalse\u001b[0m\u001b[0;34m)\u001b[0m\u001b[0;34m:\u001b[0m\u001b[0;34m\u001b[0m\u001b[0;34m\u001b[0m\u001b[0m\n\u001b[0;32m--> 933\u001b[0;31m                     \u001b[0mself\u001b[0m\u001b[0;34m.\u001b[0m\u001b[0m_output\u001b[0m\u001b[0;34m.\u001b[0m\u001b[0mextend\u001b[0m\u001b[0;34m(\u001b[0m\u001b[0mjob\u001b[0m\u001b[0;34m.\u001b[0m\u001b[0mget\u001b[0m\u001b[0;34m(\u001b[0m\u001b[0mtimeout\u001b[0m\u001b[0;34m=\u001b[0m\u001b[0mself\u001b[0m\u001b[0;34m.\u001b[0m\u001b[0mtimeout\u001b[0m\u001b[0;34m)\u001b[0m\u001b[0;34m)\u001b[0m\u001b[0;34m\u001b[0m\u001b[0;34m\u001b[0m\u001b[0m\n\u001b[0m\u001b[1;32m    934\u001b[0m                 \u001b[0;32melse\u001b[0m\u001b[0;34m:\u001b[0m\u001b[0;34m\u001b[0m\u001b[0;34m\u001b[0m\u001b[0m\n\u001b[1;32m    935\u001b[0m                     \u001b[0mself\u001b[0m\u001b[0;34m.\u001b[0m\u001b[0m_output\u001b[0m\u001b[0;34m.\u001b[0m\u001b[0mextend\u001b[0m\u001b[0;34m(\u001b[0m\u001b[0mjob\u001b[0m\u001b[0;34m.\u001b[0m\u001b[0mget\u001b[0m\u001b[0;34m(\u001b[0m\u001b[0;34m)\u001b[0m\u001b[0;34m)\u001b[0m\u001b[0;34m\u001b[0m\u001b[0;34m\u001b[0m\u001b[0m\n",
            "\u001b[0;32m/usr/local/lib/python3.7/dist-packages/joblib/_parallel_backends.py\u001b[0m in \u001b[0;36mwrap_future_result\u001b[0;34m(future, timeout)\u001b[0m\n\u001b[1;32m    540\u001b[0m         AsyncResults.get from multiprocessing.\"\"\"\n\u001b[1;32m    541\u001b[0m         \u001b[0;32mtry\u001b[0m\u001b[0;34m:\u001b[0m\u001b[0;34m\u001b[0m\u001b[0;34m\u001b[0m\u001b[0m\n\u001b[0;32m--> 542\u001b[0;31m             \u001b[0;32mreturn\u001b[0m \u001b[0mfuture\u001b[0m\u001b[0;34m.\u001b[0m\u001b[0mresult\u001b[0m\u001b[0;34m(\u001b[0m\u001b[0mtimeout\u001b[0m\u001b[0;34m=\u001b[0m\u001b[0mtimeout\u001b[0m\u001b[0;34m)\u001b[0m\u001b[0;34m\u001b[0m\u001b[0;34m\u001b[0m\u001b[0m\n\u001b[0m\u001b[1;32m    543\u001b[0m         \u001b[0;32mexcept\u001b[0m \u001b[0mCfTimeoutError\u001b[0m \u001b[0;32mas\u001b[0m \u001b[0me\u001b[0m\u001b[0;34m:\u001b[0m\u001b[0;34m\u001b[0m\u001b[0;34m\u001b[0m\u001b[0m\n\u001b[1;32m    544\u001b[0m             \u001b[0;32mraise\u001b[0m \u001b[0mTimeoutError\u001b[0m \u001b[0;32mfrom\u001b[0m \u001b[0me\u001b[0m\u001b[0;34m\u001b[0m\u001b[0;34m\u001b[0m\u001b[0m\n",
            "\u001b[0;32m/usr/lib/python3.7/concurrent/futures/_base.py\u001b[0m in \u001b[0;36mresult\u001b[0;34m(self, timeout)\u001b[0m\n\u001b[1;32m    428\u001b[0m                 \u001b[0;32mreturn\u001b[0m \u001b[0mself\u001b[0m\u001b[0;34m.\u001b[0m\u001b[0m__get_result\u001b[0m\u001b[0;34m(\u001b[0m\u001b[0;34m)\u001b[0m\u001b[0;34m\u001b[0m\u001b[0;34m\u001b[0m\u001b[0m\n\u001b[1;32m    429\u001b[0m \u001b[0;34m\u001b[0m\u001b[0m\n\u001b[0;32m--> 430\u001b[0;31m             \u001b[0mself\u001b[0m\u001b[0;34m.\u001b[0m\u001b[0m_condition\u001b[0m\u001b[0;34m.\u001b[0m\u001b[0mwait\u001b[0m\u001b[0;34m(\u001b[0m\u001b[0mtimeout\u001b[0m\u001b[0;34m)\u001b[0m\u001b[0;34m\u001b[0m\u001b[0;34m\u001b[0m\u001b[0m\n\u001b[0m\u001b[1;32m    431\u001b[0m \u001b[0;34m\u001b[0m\u001b[0m\n\u001b[1;32m    432\u001b[0m             \u001b[0;32mif\u001b[0m \u001b[0mself\u001b[0m\u001b[0;34m.\u001b[0m\u001b[0m_state\u001b[0m \u001b[0;32min\u001b[0m \u001b[0;34m[\u001b[0m\u001b[0mCANCELLED\u001b[0m\u001b[0;34m,\u001b[0m \u001b[0mCANCELLED_AND_NOTIFIED\u001b[0m\u001b[0;34m]\u001b[0m\u001b[0;34m:\u001b[0m\u001b[0;34m\u001b[0m\u001b[0;34m\u001b[0m\u001b[0m\n",
            "\u001b[0;32m/usr/lib/python3.7/threading.py\u001b[0m in \u001b[0;36mwait\u001b[0;34m(self, timeout)\u001b[0m\n\u001b[1;32m    294\u001b[0m         \u001b[0;32mtry\u001b[0m\u001b[0;34m:\u001b[0m    \u001b[0;31m# restore state no matter what (e.g., KeyboardInterrupt)\u001b[0m\u001b[0;34m\u001b[0m\u001b[0;34m\u001b[0m\u001b[0m\n\u001b[1;32m    295\u001b[0m             \u001b[0;32mif\u001b[0m \u001b[0mtimeout\u001b[0m \u001b[0;32mis\u001b[0m \u001b[0;32mNone\u001b[0m\u001b[0;34m:\u001b[0m\u001b[0;34m\u001b[0m\u001b[0;34m\u001b[0m\u001b[0m\n\u001b[0;32m--> 296\u001b[0;31m                 \u001b[0mwaiter\u001b[0m\u001b[0;34m.\u001b[0m\u001b[0macquire\u001b[0m\u001b[0;34m(\u001b[0m\u001b[0;34m)\u001b[0m\u001b[0;34m\u001b[0m\u001b[0;34m\u001b[0m\u001b[0m\n\u001b[0m\u001b[1;32m    297\u001b[0m                 \u001b[0mgotit\u001b[0m \u001b[0;34m=\u001b[0m \u001b[0;32mTrue\u001b[0m\u001b[0;34m\u001b[0m\u001b[0;34m\u001b[0m\u001b[0m\n\u001b[1;32m    298\u001b[0m             \u001b[0;32melse\u001b[0m\u001b[0;34m:\u001b[0m\u001b[0;34m\u001b[0m\u001b[0;34m\u001b[0m\u001b[0m\n",
            "\u001b[0;31mKeyboardInterrupt\u001b[0m: "
          ]
        }
      ]
    },
    {
      "cell_type": "code",
      "metadata": {
        "id": "X_KWALMgRTm3"
      },
      "source": [
        "predicts_xgb = XGBC_best.predict(test)\n",
        "submittion_set['status_group'] = predicts_xgb\n",
        "submittion_set.to_csv('/content/drive/My Drive/ML_project/Dataset/submission_cleaned_data_XGB_onehot.csv', index=False)"
      ],
      "execution_count": null,
      "outputs": []
    },
    {
      "cell_type": "code",
      "metadata": {
        "id": "ZcJaK-fZLOSk",
        "colab": {
          "base_uri": "https://localhost:8080/"
        },
        "outputId": "9ead8453-3337-453d-ee1e-dbc09c93e214"
      },
      "source": [
        "RFC = RandomForestClassifier()\n",
        "rfc_param_grid = {\n",
        "   #'bootstrap': [True, False],\n",
        "   'max_depth': [20, 40, 80], #[20] [20]\n",
        "   #'max_features': ['auto', 'sqrt'],\n",
        "   #'min_samples_leaf': [1, 2, 4],\n",
        "   #'min_samples_split': [2, 5, 10],\n",
        "   'n_estimators': [1000, 1250, 1500] #[1000] [1250]\n",
        "    }\n",
        "\n",
        "gsRFC = GridSearchCV(RFC,param_grid =rfc_param_grid, cv=kfold, scoring=\"accuracy\", n_jobs= 4, verbose = 1)\n",
        "\n",
        "gsRFC.fit(X_train,y_train)\n",
        "\n",
        "RFC_best = gsRFC.best_estimator_\n",
        "\n",
        "# Best score\n",
        "gsRFC.best_score_"
      ],
      "execution_count": null,
      "outputs": [
        {
          "output_type": "stream",
          "name": "stdout",
          "text": [
            "Fitting 10 folds for each of 9 candidates, totalling 90 fits\n"
          ]
        },
        {
          "output_type": "stream",
          "name": "stderr",
          "text": [
            "[Parallel(n_jobs=4)]: Using backend LokyBackend with 4 concurrent workers.\n",
            "/usr/local/lib/python3.7/dist-packages/joblib/externals/loky/process_executor.py:691: UserWarning: A worker stopped while some jobs were given to the executor. This can be caused by a too short worker timeout or by a memory leak.\n",
            "  \"timeout or by a memory leak.\", UserWarning\n"
          ]
        }
      ]
    },
    {
      "cell_type": "code",
      "metadata": {
        "id": "JUsJLsUabBZI"
      },
      "source": [
        "predicts_rfc = RFC_best.predict(test)\n",
        "submittion_set['status_group'] = predicts_rfc\n",
        "submittion_set.to_csv('/content/drive/My Drive/ML_project/Dataset/submission_cleaned_data_RFC_onehot.csv', index=False)"
      ],
      "execution_count": null,
      "outputs": []
    },
    {
      "cell_type": "code",
      "metadata": {
        "id": "RBO8PWf2hODK"
      },
      "source": [
        "GBC = GradientBoostingClassifier()\n",
        "gbc_param_grid = {\n",
        "    #\"loss\":[\"deviance\"],\n",
        "    \"learning_rate\": [0.05, 0.1, 0.2], #[0.1] #[0.1]\n",
        "    #\"min_samples_split\": np.linspace(0.1, 0.5, 4),\n",
        "    #\"min_samples_leaf\": np.linspace(0.1, 0.5, 4),\n",
        "    \"max_depth\":[4 , 5, 6], #[5] #[4]\n",
        "    #\"max_features\":[\"log2\",\"sqrt\"],\n",
        "    #\"criterion\": [\"friedman_mse\", \"mae\"],\n",
        "    #\"subsample\":[0.5, 0.8, 0.9, 1.0],\n",
        "    \"n_estimators\":[100, 200, 300] #[100] #[200]\n",
        "    }\n",
        "\n",
        "gsGBC = GridSearchCV(GBC,param_grid =gbc_param_grid, cv=kfold, scoring=\"accuracy\", n_jobs= 4, verbose = 1)\n",
        "\n",
        "gsGBC.fit(X_train,y_train)\n",
        "\n",
        "GBC_best = gsGBC.best_estimator_\n",
        "\n",
        "# Best score\n",
        "gsGBC.best_score_"
      ],
      "execution_count": null,
      "outputs": []
    },
    {
      "cell_type": "code",
      "metadata": {
        "id": "_0oCjBrqbP48"
      },
      "source": [
        "predicts_gbc = GBC_best.predict(test)\n",
        "submittion_set['status_group'] = predicts_gbc\n",
        "submittion_set.to_csv('/content/drive/My Drive/ML_project/Dataset/submission_cleaned_data_GBC_onehot.csv', index=False)"
      ],
      "execution_count": null,
      "outputs": []
    }
  ]
}